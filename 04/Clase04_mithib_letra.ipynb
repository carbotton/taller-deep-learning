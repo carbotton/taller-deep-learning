{
  "cells": [
    {
      "cell_type": "markdown",
      "metadata": {
        "id": "view-in-github",
        "colab_type": "text"
      },
      "source": [
        "<a href=\"https://colab.research.google.com/github/carbotton/taller-deep-learning/blob/main/04/Clase04_mithib_letra.ipynb\" target=\"_parent\"><img src=\"https://colab.research.google.com/assets/colab-badge.svg\" alt=\"Open In Colab\"/></a>"
      ]
    },
    {
      "cell_type": "markdown",
      "metadata": {
        "id": "vSjMcxjMp9ZF"
      },
      "source": [
        "# MIT-BIH Arrhythmia\n",
        "\n",
        "En esta notebook, implementaremos técnicas de regularización, tales como early stopping y dropout, utilizando el [MIT-BIH Arrhythmia Database](https://physionet.org/content/mitdb/1.0.0). El objetivo principal es mejorar la generalización de nuestros modelos de aprendizaje profundo y prevenir el sobreajuste durante el entrenamiento.\n",
        "\n",
        "## Introducción\n",
        "\n",
        "### Objetivos\n",
        "\n",
        "1. **Implementar y entender las técnicas de regularización** más comunes en redes neuronales, incluyendo early stopping y dropout.\n",
        "2. **Entrenar modelos de clasificación** en PyTorch utilizando el MIT-BIH Arrhythmia Database.\n",
        "3. **Evaluar el impacto de las técnicas de regularización** en el rendimiento del modelo utilizando métricas adecuadas.\n",
        "\n",
        "### Contenido\n",
        "\n",
        "1. Configuración de bibliotecas y semillas para reproducibilidad.\n",
        "2. Carga y exploración del MIT-BIH Arrhythmia Database.\n",
        "3. Preparación de los datos y división en conjuntos de entrenamiento y prueba.\n",
        "4. Definición y entrenamiento de modelos de clasificación en PyTorch.\n",
        "5. Implementación de técnicas de regularización como dropout y early stopping.\n",
        "6. Evaluación y comparación del rendimiento de los modelos con y sin regularización.\n",
        "\n",
        "### Sobre el conjunto de datos\n",
        "\n",
        "El MIT-BIH Arrhythmia Database es un conjunto de datos ampliamente utilizado en la investigación de la arritmia cardíaca. Contiene registros de electrocardiogramas (ECG) de diferentes pacientes, con anotaciones detalladas sobre distintos tipos de arritmias. Este conjunto de datos nos permitirá entrenar modelos de clasificación capaces de identificar distintos tipos de arritmias a partir de los datos de ECG, haciendo énfasis en la importancia de la regularización para mejorar la precisión y generalización de los modelos.\n",
        "\n",
        "El modelo esta disponible en el siguiente [link](https://www.kaggle.com/shayanfazeli/heartbeat)."
      ]
    },
    {
      "cell_type": "code",
      "source": [
        "!pip install torchinfo"
      ],
      "metadata": {
        "colab": {
          "base_uri": "https://localhost:8080/"
        },
        "id": "QX6FJI5KsVrH",
        "outputId": "883edfc0-f375-4c96-8bbf-9e1997c3395f"
      },
      "execution_count": 1,
      "outputs": [
        {
          "output_type": "stream",
          "name": "stdout",
          "text": [
            "Collecting torchinfo\n",
            "  Downloading torchinfo-1.8.0-py3-none-any.whl.metadata (21 kB)\n",
            "Downloading torchinfo-1.8.0-py3-none-any.whl (23 kB)\n",
            "Installing collected packages: torchinfo\n",
            "Successfully installed torchinfo-1.8.0\n"
          ]
        }
      ]
    },
    {
      "cell_type": "code",
      "execution_count": 2,
      "metadata": {
        "id": "SOkguaBxp9ZI"
      },
      "outputs": [],
      "source": [
        "import torch\n",
        "import torch.nn as nn\n",
        "import torch.nn.functional as F\n",
        "import torch.optim as optim\n",
        "from torch.utils.data import DataLoader, Dataset\n",
        "\n",
        "from torchinfo import summary\n",
        "\n",
        "import pandas as pd\n",
        "import matplotlib.pyplot as plt\n",
        "from sklearn.model_selection import train_test_split\n",
        "from sklearn.metrics import (\n",
        "    accuracy_score,\n",
        "    classification_report,\n",
        ")\n",
        "\n",
        "from utils import plot_taining"
      ]
    },
    {
      "cell_type": "code",
      "execution_count": 3,
      "metadata": {
        "id": "SsEfcCl6p9ZJ"
      },
      "outputs": [],
      "source": [
        "# Fijamos la semilla para que los resultados sean reproducibles\n",
        "SEED = 34\n",
        "\n",
        "torch.manual_seed(SEED)\n",
        "torch.backends.cudnn.deterministic = True"
      ]
    },
    {
      "cell_type": "code",
      "execution_count": 4,
      "metadata": {
        "id": "-L1vzjNIp9ZJ",
        "colab": {
          "base_uri": "https://localhost:8080/"
        },
        "outputId": "9cebb47d-82c9-4e4f-c549-d78039ce5439"
      },
      "outputs": [
        {
          "output_type": "stream",
          "name": "stdout",
          "text": [
            "Usando cuda\n",
            "Usando 4\n"
          ]
        }
      ],
      "source": [
        "import sys\n",
        "\n",
        "# definimos el dispositivo que vamos a usar\n",
        "DEVICE = \"cpu\"  # por defecto, usamos la CPU\n",
        "if torch.cuda.is_available():\n",
        "    DEVICE = \"cuda\"  # si hay GPU, usamos la GPU\n",
        "elif torch.backends.mps.is_available():\n",
        "    DEVICE = \"mps\"  # si no hay GPU, pero hay MPS, usamos MPS\n",
        "elif torch.xpu.is_available():\n",
        "    DEVICE = \"xpu\"  # si no hay GPU, pero hay XPU, usamos XPU\n",
        "\n",
        "print(f\"Usando {DEVICE}\")\n",
        "\n",
        "NUM_WORKERS = 0 # Win y MacOS pueden tener problemas con múltiples workers\n",
        "if sys.platform == 'linux':\n",
        "    NUM_WORKERS = 4  # numero de workers para cargar los datos (depende de cada caso)\n",
        "\n",
        "print(f\"Usando {NUM_WORKERS}\")"
      ]
    },
    {
      "cell_type": "code",
      "execution_count": 5,
      "metadata": {
        "id": "8RYbcpx4p9ZJ"
      },
      "outputs": [],
      "source": [
        "BATCH_SIZE = 2048  # tamaño del batch"
      ]
    },
    {
      "cell_type": "markdown",
      "metadata": {
        "id": "55RJ7BP3p9ZK"
      },
      "source": [
        "## Carga de datos + Exploración"
      ]
    },
    {
      "cell_type": "code",
      "execution_count": 6,
      "metadata": {
        "id": "nxsIqh6ep9ZK"
      },
      "outputs": [],
      "source": [
        "TRAIN_DATA_PATH = \"data/mitbih_train.csv\"\n",
        "TEST_DATA_PATH = \"data/mitbih_test.csv\""
      ]
    },
    {
      "cell_type": "code",
      "execution_count": 8,
      "metadata": {
        "id": "mRmOs9vHp9ZK"
      },
      "outputs": [],
      "source": [
        "df_train = pd.read_csv(TRAIN_DATA_PATH, header=None)\n",
        "df_test = pd.read_csv(TEST_DATA_PATH, header=None)\n",
        "\n",
        "# Concatenamos los datos de entrenamiento y test\n",
        "df = pd.concat([df_train, df_test], axis=0)"
      ]
    },
    {
      "cell_type": "code",
      "execution_count": 9,
      "metadata": {
        "id": "YP3bEnxgp9ZK",
        "colab": {
          "base_uri": "https://localhost:8080/"
        },
        "outputId": "abb5943f-6c91-4429-882f-af5a787cf0ef"
      },
      "outputs": [
        {
          "output_type": "stream",
          "name": "stdout",
          "text": [
            "Existen 5 clases y 187 características\n"
          ]
        }
      ],
      "source": [
        "ninputs = df.shape[1] - 1\n",
        "nclasses = df.iloc[:, -1].nunique()\n",
        "print(f\"Existen {nclasses} clases y {ninputs} características\")"
      ]
    },
    {
      "cell_type": "code",
      "execution_count": 10,
      "metadata": {
        "id": "R2YnENjZp9ZL",
        "colab": {
          "base_uri": "https://localhost:8080/",
          "height": 342
        },
        "outputId": "5785eaeb-403f-4be2-b275-ceae810ffedf"
      },
      "outputs": [
        {
          "output_type": "stream",
          "name": "stdout",
          "text": [
            "<class 'pandas.core.frame.DataFrame'>\n",
            "RangeIndex: 87554 entries, 0 to 87553\n",
            "Columns: 188 entries, 0 to 187\n",
            "dtypes: float64(188)\n",
            "memory usage: 125.6 MB\n"
          ]
        },
        {
          "output_type": "execute_result",
          "data": {
            "text/plain": [
              "        0         1         2         3         4         5         6    \\\n",
              "0  0.977941  0.926471  0.681373  0.245098  0.154412  0.191176  0.151961   \n",
              "1  0.960114  0.863248  0.461538  0.196581  0.094017  0.125356  0.099715   \n",
              "2  1.000000  0.659459  0.186486  0.070270  0.070270  0.059459  0.056757   \n",
              "3  0.925414  0.665746  0.541436  0.276243  0.196133  0.077348  0.071823   \n",
              "4  0.967136  1.000000  0.830986  0.586854  0.356808  0.248826  0.145540   \n",
              "\n",
              "        7         8         9    ...  178  179  180  181  182  183  184  185  \\\n",
              "0  0.085784  0.058824  0.049020  ...  0.0  0.0  0.0  0.0  0.0  0.0  0.0  0.0   \n",
              "1  0.088319  0.074074  0.082621  ...  0.0  0.0  0.0  0.0  0.0  0.0  0.0  0.0   \n",
              "2  0.043243  0.054054  0.045946  ...  0.0  0.0  0.0  0.0  0.0  0.0  0.0  0.0   \n",
              "3  0.060773  0.066298  0.058011  ...  0.0  0.0  0.0  0.0  0.0  0.0  0.0  0.0   \n",
              "4  0.089202  0.117371  0.150235  ...  0.0  0.0  0.0  0.0  0.0  0.0  0.0  0.0   \n",
              "\n",
              "   186  187  \n",
              "0  0.0  0.0  \n",
              "1  0.0  0.0  \n",
              "2  0.0  0.0  \n",
              "3  0.0  0.0  \n",
              "4  0.0  0.0  \n",
              "\n",
              "[5 rows x 188 columns]"
            ],
            "text/html": [
              "\n",
              "  <div id=\"df-26f5f104-8622-4097-881b-c1910189c6de\" class=\"colab-df-container\">\n",
              "    <div>\n",
              "<style scoped>\n",
              "    .dataframe tbody tr th:only-of-type {\n",
              "        vertical-align: middle;\n",
              "    }\n",
              "\n",
              "    .dataframe tbody tr th {\n",
              "        vertical-align: top;\n",
              "    }\n",
              "\n",
              "    .dataframe thead th {\n",
              "        text-align: right;\n",
              "    }\n",
              "</style>\n",
              "<table border=\"1\" class=\"dataframe\">\n",
              "  <thead>\n",
              "    <tr style=\"text-align: right;\">\n",
              "      <th></th>\n",
              "      <th>0</th>\n",
              "      <th>1</th>\n",
              "      <th>2</th>\n",
              "      <th>3</th>\n",
              "      <th>4</th>\n",
              "      <th>5</th>\n",
              "      <th>6</th>\n",
              "      <th>7</th>\n",
              "      <th>8</th>\n",
              "      <th>9</th>\n",
              "      <th>...</th>\n",
              "      <th>178</th>\n",
              "      <th>179</th>\n",
              "      <th>180</th>\n",
              "      <th>181</th>\n",
              "      <th>182</th>\n",
              "      <th>183</th>\n",
              "      <th>184</th>\n",
              "      <th>185</th>\n",
              "      <th>186</th>\n",
              "      <th>187</th>\n",
              "    </tr>\n",
              "  </thead>\n",
              "  <tbody>\n",
              "    <tr>\n",
              "      <th>0</th>\n",
              "      <td>0.977941</td>\n",
              "      <td>0.926471</td>\n",
              "      <td>0.681373</td>\n",
              "      <td>0.245098</td>\n",
              "      <td>0.154412</td>\n",
              "      <td>0.191176</td>\n",
              "      <td>0.151961</td>\n",
              "      <td>0.085784</td>\n",
              "      <td>0.058824</td>\n",
              "      <td>0.049020</td>\n",
              "      <td>...</td>\n",
              "      <td>0.0</td>\n",
              "      <td>0.0</td>\n",
              "      <td>0.0</td>\n",
              "      <td>0.0</td>\n",
              "      <td>0.0</td>\n",
              "      <td>0.0</td>\n",
              "      <td>0.0</td>\n",
              "      <td>0.0</td>\n",
              "      <td>0.0</td>\n",
              "      <td>0.0</td>\n",
              "    </tr>\n",
              "    <tr>\n",
              "      <th>1</th>\n",
              "      <td>0.960114</td>\n",
              "      <td>0.863248</td>\n",
              "      <td>0.461538</td>\n",
              "      <td>0.196581</td>\n",
              "      <td>0.094017</td>\n",
              "      <td>0.125356</td>\n",
              "      <td>0.099715</td>\n",
              "      <td>0.088319</td>\n",
              "      <td>0.074074</td>\n",
              "      <td>0.082621</td>\n",
              "      <td>...</td>\n",
              "      <td>0.0</td>\n",
              "      <td>0.0</td>\n",
              "      <td>0.0</td>\n",
              "      <td>0.0</td>\n",
              "      <td>0.0</td>\n",
              "      <td>0.0</td>\n",
              "      <td>0.0</td>\n",
              "      <td>0.0</td>\n",
              "      <td>0.0</td>\n",
              "      <td>0.0</td>\n",
              "    </tr>\n",
              "    <tr>\n",
              "      <th>2</th>\n",
              "      <td>1.000000</td>\n",
              "      <td>0.659459</td>\n",
              "      <td>0.186486</td>\n",
              "      <td>0.070270</td>\n",
              "      <td>0.070270</td>\n",
              "      <td>0.059459</td>\n",
              "      <td>0.056757</td>\n",
              "      <td>0.043243</td>\n",
              "      <td>0.054054</td>\n",
              "      <td>0.045946</td>\n",
              "      <td>...</td>\n",
              "      <td>0.0</td>\n",
              "      <td>0.0</td>\n",
              "      <td>0.0</td>\n",
              "      <td>0.0</td>\n",
              "      <td>0.0</td>\n",
              "      <td>0.0</td>\n",
              "      <td>0.0</td>\n",
              "      <td>0.0</td>\n",
              "      <td>0.0</td>\n",
              "      <td>0.0</td>\n",
              "    </tr>\n",
              "    <tr>\n",
              "      <th>3</th>\n",
              "      <td>0.925414</td>\n",
              "      <td>0.665746</td>\n",
              "      <td>0.541436</td>\n",
              "      <td>0.276243</td>\n",
              "      <td>0.196133</td>\n",
              "      <td>0.077348</td>\n",
              "      <td>0.071823</td>\n",
              "      <td>0.060773</td>\n",
              "      <td>0.066298</td>\n",
              "      <td>0.058011</td>\n",
              "      <td>...</td>\n",
              "      <td>0.0</td>\n",
              "      <td>0.0</td>\n",
              "      <td>0.0</td>\n",
              "      <td>0.0</td>\n",
              "      <td>0.0</td>\n",
              "      <td>0.0</td>\n",
              "      <td>0.0</td>\n",
              "      <td>0.0</td>\n",
              "      <td>0.0</td>\n",
              "      <td>0.0</td>\n",
              "    </tr>\n",
              "    <tr>\n",
              "      <th>4</th>\n",
              "      <td>0.967136</td>\n",
              "      <td>1.000000</td>\n",
              "      <td>0.830986</td>\n",
              "      <td>0.586854</td>\n",
              "      <td>0.356808</td>\n",
              "      <td>0.248826</td>\n",
              "      <td>0.145540</td>\n",
              "      <td>0.089202</td>\n",
              "      <td>0.117371</td>\n",
              "      <td>0.150235</td>\n",
              "      <td>...</td>\n",
              "      <td>0.0</td>\n",
              "      <td>0.0</td>\n",
              "      <td>0.0</td>\n",
              "      <td>0.0</td>\n",
              "      <td>0.0</td>\n",
              "      <td>0.0</td>\n",
              "      <td>0.0</td>\n",
              "      <td>0.0</td>\n",
              "      <td>0.0</td>\n",
              "      <td>0.0</td>\n",
              "    </tr>\n",
              "  </tbody>\n",
              "</table>\n",
              "<p>5 rows × 188 columns</p>\n",
              "</div>\n",
              "    <div class=\"colab-df-buttons\">\n",
              "\n",
              "  <div class=\"colab-df-container\">\n",
              "    <button class=\"colab-df-convert\" onclick=\"convertToInteractive('df-26f5f104-8622-4097-881b-c1910189c6de')\"\n",
              "            title=\"Convert this dataframe to an interactive table.\"\n",
              "            style=\"display:none;\">\n",
              "\n",
              "  <svg xmlns=\"http://www.w3.org/2000/svg\" height=\"24px\" viewBox=\"0 -960 960 960\">\n",
              "    <path d=\"M120-120v-720h720v720H120Zm60-500h600v-160H180v160Zm220 220h160v-160H400v160Zm0 220h160v-160H400v160ZM180-400h160v-160H180v160Zm440 0h160v-160H620v160ZM180-180h160v-160H180v160Zm440 0h160v-160H620v160Z\"/>\n",
              "  </svg>\n",
              "    </button>\n",
              "\n",
              "  <style>\n",
              "    .colab-df-container {\n",
              "      display:flex;\n",
              "      gap: 12px;\n",
              "    }\n",
              "\n",
              "    .colab-df-convert {\n",
              "      background-color: #E8F0FE;\n",
              "      border: none;\n",
              "      border-radius: 50%;\n",
              "      cursor: pointer;\n",
              "      display: none;\n",
              "      fill: #1967D2;\n",
              "      height: 32px;\n",
              "      padding: 0 0 0 0;\n",
              "      width: 32px;\n",
              "    }\n",
              "\n",
              "    .colab-df-convert:hover {\n",
              "      background-color: #E2EBFA;\n",
              "      box-shadow: 0px 1px 2px rgba(60, 64, 67, 0.3), 0px 1px 3px 1px rgba(60, 64, 67, 0.15);\n",
              "      fill: #174EA6;\n",
              "    }\n",
              "\n",
              "    .colab-df-buttons div {\n",
              "      margin-bottom: 4px;\n",
              "    }\n",
              "\n",
              "    [theme=dark] .colab-df-convert {\n",
              "      background-color: #3B4455;\n",
              "      fill: #D2E3FC;\n",
              "    }\n",
              "\n",
              "    [theme=dark] .colab-df-convert:hover {\n",
              "      background-color: #434B5C;\n",
              "      box-shadow: 0px 1px 3px 1px rgba(0, 0, 0, 0.15);\n",
              "      filter: drop-shadow(0px 1px 2px rgba(0, 0, 0, 0.3));\n",
              "      fill: #FFFFFF;\n",
              "    }\n",
              "  </style>\n",
              "\n",
              "    <script>\n",
              "      const buttonEl =\n",
              "        document.querySelector('#df-26f5f104-8622-4097-881b-c1910189c6de button.colab-df-convert');\n",
              "      buttonEl.style.display =\n",
              "        google.colab.kernel.accessAllowed ? 'block' : 'none';\n",
              "\n",
              "      async function convertToInteractive(key) {\n",
              "        const element = document.querySelector('#df-26f5f104-8622-4097-881b-c1910189c6de');\n",
              "        const dataTable =\n",
              "          await google.colab.kernel.invokeFunction('convertToInteractive',\n",
              "                                                    [key], {});\n",
              "        if (!dataTable) return;\n",
              "\n",
              "        const docLinkHtml = 'Like what you see? Visit the ' +\n",
              "          '<a target=\"_blank\" href=https://colab.research.google.com/notebooks/data_table.ipynb>data table notebook</a>'\n",
              "          + ' to learn more about interactive tables.';\n",
              "        element.innerHTML = '';\n",
              "        dataTable['output_type'] = 'display_data';\n",
              "        await google.colab.output.renderOutput(dataTable, element);\n",
              "        const docLink = document.createElement('div');\n",
              "        docLink.innerHTML = docLinkHtml;\n",
              "        element.appendChild(docLink);\n",
              "      }\n",
              "    </script>\n",
              "  </div>\n",
              "\n",
              "\n",
              "    <div id=\"df-fdd01cb8-04c7-44e8-b50c-84c87db7148a\">\n",
              "      <button class=\"colab-df-quickchart\" onclick=\"quickchart('df-fdd01cb8-04c7-44e8-b50c-84c87db7148a')\"\n",
              "                title=\"Suggest charts\"\n",
              "                style=\"display:none;\">\n",
              "\n",
              "<svg xmlns=\"http://www.w3.org/2000/svg\" height=\"24px\"viewBox=\"0 0 24 24\"\n",
              "     width=\"24px\">\n",
              "    <g>\n",
              "        <path d=\"M19 3H5c-1.1 0-2 .9-2 2v14c0 1.1.9 2 2 2h14c1.1 0 2-.9 2-2V5c0-1.1-.9-2-2-2zM9 17H7v-7h2v7zm4 0h-2V7h2v10zm4 0h-2v-4h2v4z\"/>\n",
              "    </g>\n",
              "</svg>\n",
              "      </button>\n",
              "\n",
              "<style>\n",
              "  .colab-df-quickchart {\n",
              "      --bg-color: #E8F0FE;\n",
              "      --fill-color: #1967D2;\n",
              "      --hover-bg-color: #E2EBFA;\n",
              "      --hover-fill-color: #174EA6;\n",
              "      --disabled-fill-color: #AAA;\n",
              "      --disabled-bg-color: #DDD;\n",
              "  }\n",
              "\n",
              "  [theme=dark] .colab-df-quickchart {\n",
              "      --bg-color: #3B4455;\n",
              "      --fill-color: #D2E3FC;\n",
              "      --hover-bg-color: #434B5C;\n",
              "      --hover-fill-color: #FFFFFF;\n",
              "      --disabled-bg-color: #3B4455;\n",
              "      --disabled-fill-color: #666;\n",
              "  }\n",
              "\n",
              "  .colab-df-quickchart {\n",
              "    background-color: var(--bg-color);\n",
              "    border: none;\n",
              "    border-radius: 50%;\n",
              "    cursor: pointer;\n",
              "    display: none;\n",
              "    fill: var(--fill-color);\n",
              "    height: 32px;\n",
              "    padding: 0;\n",
              "    width: 32px;\n",
              "  }\n",
              "\n",
              "  .colab-df-quickchart:hover {\n",
              "    background-color: var(--hover-bg-color);\n",
              "    box-shadow: 0 1px 2px rgba(60, 64, 67, 0.3), 0 1px 3px 1px rgba(60, 64, 67, 0.15);\n",
              "    fill: var(--button-hover-fill-color);\n",
              "  }\n",
              "\n",
              "  .colab-df-quickchart-complete:disabled,\n",
              "  .colab-df-quickchart-complete:disabled:hover {\n",
              "    background-color: var(--disabled-bg-color);\n",
              "    fill: var(--disabled-fill-color);\n",
              "    box-shadow: none;\n",
              "  }\n",
              "\n",
              "  .colab-df-spinner {\n",
              "    border: 2px solid var(--fill-color);\n",
              "    border-color: transparent;\n",
              "    border-bottom-color: var(--fill-color);\n",
              "    animation:\n",
              "      spin 1s steps(1) infinite;\n",
              "  }\n",
              "\n",
              "  @keyframes spin {\n",
              "    0% {\n",
              "      border-color: transparent;\n",
              "      border-bottom-color: var(--fill-color);\n",
              "      border-left-color: var(--fill-color);\n",
              "    }\n",
              "    20% {\n",
              "      border-color: transparent;\n",
              "      border-left-color: var(--fill-color);\n",
              "      border-top-color: var(--fill-color);\n",
              "    }\n",
              "    30% {\n",
              "      border-color: transparent;\n",
              "      border-left-color: var(--fill-color);\n",
              "      border-top-color: var(--fill-color);\n",
              "      border-right-color: var(--fill-color);\n",
              "    }\n",
              "    40% {\n",
              "      border-color: transparent;\n",
              "      border-right-color: var(--fill-color);\n",
              "      border-top-color: var(--fill-color);\n",
              "    }\n",
              "    60% {\n",
              "      border-color: transparent;\n",
              "      border-right-color: var(--fill-color);\n",
              "    }\n",
              "    80% {\n",
              "      border-color: transparent;\n",
              "      border-right-color: var(--fill-color);\n",
              "      border-bottom-color: var(--fill-color);\n",
              "    }\n",
              "    90% {\n",
              "      border-color: transparent;\n",
              "      border-bottom-color: var(--fill-color);\n",
              "    }\n",
              "  }\n",
              "</style>\n",
              "\n",
              "      <script>\n",
              "        async function quickchart(key) {\n",
              "          const quickchartButtonEl =\n",
              "            document.querySelector('#' + key + ' button');\n",
              "          quickchartButtonEl.disabled = true;  // To prevent multiple clicks.\n",
              "          quickchartButtonEl.classList.add('colab-df-spinner');\n",
              "          try {\n",
              "            const charts = await google.colab.kernel.invokeFunction(\n",
              "                'suggestCharts', [key], {});\n",
              "          } catch (error) {\n",
              "            console.error('Error during call to suggestCharts:', error);\n",
              "          }\n",
              "          quickchartButtonEl.classList.remove('colab-df-spinner');\n",
              "          quickchartButtonEl.classList.add('colab-df-quickchart-complete');\n",
              "        }\n",
              "        (() => {\n",
              "          let quickchartButtonEl =\n",
              "            document.querySelector('#df-fdd01cb8-04c7-44e8-b50c-84c87db7148a button');\n",
              "          quickchartButtonEl.style.display =\n",
              "            google.colab.kernel.accessAllowed ? 'block' : 'none';\n",
              "        })();\n",
              "      </script>\n",
              "    </div>\n",
              "\n",
              "    </div>\n",
              "  </div>\n"
            ],
            "application/vnd.google.colaboratory.intrinsic+json": {
              "type": "dataframe",
              "variable_name": "df_train"
            }
          },
          "metadata": {},
          "execution_count": 10
        }
      ],
      "source": [
        "df_train.info()\n",
        "df_train.head()"
      ]
    },
    {
      "cell_type": "code",
      "execution_count": 11,
      "metadata": {
        "id": "c3yZfN2Dp9ZL",
        "colab": {
          "base_uri": "https://localhost:8080/",
          "height": 342
        },
        "outputId": "dc054999-f62c-447f-8301-00554e3bc1bc"
      },
      "outputs": [
        {
          "output_type": "stream",
          "name": "stdout",
          "text": [
            "<class 'pandas.core.frame.DataFrame'>\n",
            "RangeIndex: 21892 entries, 0 to 21891\n",
            "Columns: 188 entries, 0 to 187\n",
            "dtypes: float64(188)\n",
            "memory usage: 31.4 MB\n"
          ]
        },
        {
          "output_type": "execute_result",
          "data": {
            "text/plain": [
              "        0         1         2         3         4         5         6    \\\n",
              "0  1.000000  0.758264  0.111570  0.000000  0.080579  0.078512  0.066116   \n",
              "1  0.908425  0.783883  0.531136  0.362637  0.366300  0.344322  0.333333   \n",
              "2  0.730088  0.212389  0.000000  0.119469  0.101770  0.101770  0.110619   \n",
              "3  1.000000  0.910417  0.681250  0.472917  0.229167  0.068750  0.000000   \n",
              "4  0.570470  0.399329  0.238255  0.147651  0.000000  0.003356  0.040268   \n",
              "\n",
              "        7         8         9    ...  178  179  180  181  182  183  184  185  \\\n",
              "0  0.049587  0.047521  0.035124  ...  0.0  0.0  0.0  0.0  0.0  0.0  0.0  0.0   \n",
              "1  0.307692  0.296703  0.300366  ...  0.0  0.0  0.0  0.0  0.0  0.0  0.0  0.0   \n",
              "2  0.123894  0.115044  0.132743  ...  0.0  0.0  0.0  0.0  0.0  0.0  0.0  0.0   \n",
              "3  0.004167  0.014583  0.054167  ...  0.0  0.0  0.0  0.0  0.0  0.0  0.0  0.0   \n",
              "4  0.080537  0.070470  0.090604  ...  0.0  0.0  0.0  0.0  0.0  0.0  0.0  0.0   \n",
              "\n",
              "   186  187  \n",
              "0  0.0  0.0  \n",
              "1  0.0  0.0  \n",
              "2  0.0  0.0  \n",
              "3  0.0  0.0  \n",
              "4  0.0  0.0  \n",
              "\n",
              "[5 rows x 188 columns]"
            ],
            "text/html": [
              "\n",
              "  <div id=\"df-7416699e-57ea-4549-8751-aacb4eaa6ce0\" class=\"colab-df-container\">\n",
              "    <div>\n",
              "<style scoped>\n",
              "    .dataframe tbody tr th:only-of-type {\n",
              "        vertical-align: middle;\n",
              "    }\n",
              "\n",
              "    .dataframe tbody tr th {\n",
              "        vertical-align: top;\n",
              "    }\n",
              "\n",
              "    .dataframe thead th {\n",
              "        text-align: right;\n",
              "    }\n",
              "</style>\n",
              "<table border=\"1\" class=\"dataframe\">\n",
              "  <thead>\n",
              "    <tr style=\"text-align: right;\">\n",
              "      <th></th>\n",
              "      <th>0</th>\n",
              "      <th>1</th>\n",
              "      <th>2</th>\n",
              "      <th>3</th>\n",
              "      <th>4</th>\n",
              "      <th>5</th>\n",
              "      <th>6</th>\n",
              "      <th>7</th>\n",
              "      <th>8</th>\n",
              "      <th>9</th>\n",
              "      <th>...</th>\n",
              "      <th>178</th>\n",
              "      <th>179</th>\n",
              "      <th>180</th>\n",
              "      <th>181</th>\n",
              "      <th>182</th>\n",
              "      <th>183</th>\n",
              "      <th>184</th>\n",
              "      <th>185</th>\n",
              "      <th>186</th>\n",
              "      <th>187</th>\n",
              "    </tr>\n",
              "  </thead>\n",
              "  <tbody>\n",
              "    <tr>\n",
              "      <th>0</th>\n",
              "      <td>1.000000</td>\n",
              "      <td>0.758264</td>\n",
              "      <td>0.111570</td>\n",
              "      <td>0.000000</td>\n",
              "      <td>0.080579</td>\n",
              "      <td>0.078512</td>\n",
              "      <td>0.066116</td>\n",
              "      <td>0.049587</td>\n",
              "      <td>0.047521</td>\n",
              "      <td>0.035124</td>\n",
              "      <td>...</td>\n",
              "      <td>0.0</td>\n",
              "      <td>0.0</td>\n",
              "      <td>0.0</td>\n",
              "      <td>0.0</td>\n",
              "      <td>0.0</td>\n",
              "      <td>0.0</td>\n",
              "      <td>0.0</td>\n",
              "      <td>0.0</td>\n",
              "      <td>0.0</td>\n",
              "      <td>0.0</td>\n",
              "    </tr>\n",
              "    <tr>\n",
              "      <th>1</th>\n",
              "      <td>0.908425</td>\n",
              "      <td>0.783883</td>\n",
              "      <td>0.531136</td>\n",
              "      <td>0.362637</td>\n",
              "      <td>0.366300</td>\n",
              "      <td>0.344322</td>\n",
              "      <td>0.333333</td>\n",
              "      <td>0.307692</td>\n",
              "      <td>0.296703</td>\n",
              "      <td>0.300366</td>\n",
              "      <td>...</td>\n",
              "      <td>0.0</td>\n",
              "      <td>0.0</td>\n",
              "      <td>0.0</td>\n",
              "      <td>0.0</td>\n",
              "      <td>0.0</td>\n",
              "      <td>0.0</td>\n",
              "      <td>0.0</td>\n",
              "      <td>0.0</td>\n",
              "      <td>0.0</td>\n",
              "      <td>0.0</td>\n",
              "    </tr>\n",
              "    <tr>\n",
              "      <th>2</th>\n",
              "      <td>0.730088</td>\n",
              "      <td>0.212389</td>\n",
              "      <td>0.000000</td>\n",
              "      <td>0.119469</td>\n",
              "      <td>0.101770</td>\n",
              "      <td>0.101770</td>\n",
              "      <td>0.110619</td>\n",
              "      <td>0.123894</td>\n",
              "      <td>0.115044</td>\n",
              "      <td>0.132743</td>\n",
              "      <td>...</td>\n",
              "      <td>0.0</td>\n",
              "      <td>0.0</td>\n",
              "      <td>0.0</td>\n",
              "      <td>0.0</td>\n",
              "      <td>0.0</td>\n",
              "      <td>0.0</td>\n",
              "      <td>0.0</td>\n",
              "      <td>0.0</td>\n",
              "      <td>0.0</td>\n",
              "      <td>0.0</td>\n",
              "    </tr>\n",
              "    <tr>\n",
              "      <th>3</th>\n",
              "      <td>1.000000</td>\n",
              "      <td>0.910417</td>\n",
              "      <td>0.681250</td>\n",
              "      <td>0.472917</td>\n",
              "      <td>0.229167</td>\n",
              "      <td>0.068750</td>\n",
              "      <td>0.000000</td>\n",
              "      <td>0.004167</td>\n",
              "      <td>0.014583</td>\n",
              "      <td>0.054167</td>\n",
              "      <td>...</td>\n",
              "      <td>0.0</td>\n",
              "      <td>0.0</td>\n",
              "      <td>0.0</td>\n",
              "      <td>0.0</td>\n",
              "      <td>0.0</td>\n",
              "      <td>0.0</td>\n",
              "      <td>0.0</td>\n",
              "      <td>0.0</td>\n",
              "      <td>0.0</td>\n",
              "      <td>0.0</td>\n",
              "    </tr>\n",
              "    <tr>\n",
              "      <th>4</th>\n",
              "      <td>0.570470</td>\n",
              "      <td>0.399329</td>\n",
              "      <td>0.238255</td>\n",
              "      <td>0.147651</td>\n",
              "      <td>0.000000</td>\n",
              "      <td>0.003356</td>\n",
              "      <td>0.040268</td>\n",
              "      <td>0.080537</td>\n",
              "      <td>0.070470</td>\n",
              "      <td>0.090604</td>\n",
              "      <td>...</td>\n",
              "      <td>0.0</td>\n",
              "      <td>0.0</td>\n",
              "      <td>0.0</td>\n",
              "      <td>0.0</td>\n",
              "      <td>0.0</td>\n",
              "      <td>0.0</td>\n",
              "      <td>0.0</td>\n",
              "      <td>0.0</td>\n",
              "      <td>0.0</td>\n",
              "      <td>0.0</td>\n",
              "    </tr>\n",
              "  </tbody>\n",
              "</table>\n",
              "<p>5 rows × 188 columns</p>\n",
              "</div>\n",
              "    <div class=\"colab-df-buttons\">\n",
              "\n",
              "  <div class=\"colab-df-container\">\n",
              "    <button class=\"colab-df-convert\" onclick=\"convertToInteractive('df-7416699e-57ea-4549-8751-aacb4eaa6ce0')\"\n",
              "            title=\"Convert this dataframe to an interactive table.\"\n",
              "            style=\"display:none;\">\n",
              "\n",
              "  <svg xmlns=\"http://www.w3.org/2000/svg\" height=\"24px\" viewBox=\"0 -960 960 960\">\n",
              "    <path d=\"M120-120v-720h720v720H120Zm60-500h600v-160H180v160Zm220 220h160v-160H400v160Zm0 220h160v-160H400v160ZM180-400h160v-160H180v160Zm440 0h160v-160H620v160ZM180-180h160v-160H180v160Zm440 0h160v-160H620v160Z\"/>\n",
              "  </svg>\n",
              "    </button>\n",
              "\n",
              "  <style>\n",
              "    .colab-df-container {\n",
              "      display:flex;\n",
              "      gap: 12px;\n",
              "    }\n",
              "\n",
              "    .colab-df-convert {\n",
              "      background-color: #E8F0FE;\n",
              "      border: none;\n",
              "      border-radius: 50%;\n",
              "      cursor: pointer;\n",
              "      display: none;\n",
              "      fill: #1967D2;\n",
              "      height: 32px;\n",
              "      padding: 0 0 0 0;\n",
              "      width: 32px;\n",
              "    }\n",
              "\n",
              "    .colab-df-convert:hover {\n",
              "      background-color: #E2EBFA;\n",
              "      box-shadow: 0px 1px 2px rgba(60, 64, 67, 0.3), 0px 1px 3px 1px rgba(60, 64, 67, 0.15);\n",
              "      fill: #174EA6;\n",
              "    }\n",
              "\n",
              "    .colab-df-buttons div {\n",
              "      margin-bottom: 4px;\n",
              "    }\n",
              "\n",
              "    [theme=dark] .colab-df-convert {\n",
              "      background-color: #3B4455;\n",
              "      fill: #D2E3FC;\n",
              "    }\n",
              "\n",
              "    [theme=dark] .colab-df-convert:hover {\n",
              "      background-color: #434B5C;\n",
              "      box-shadow: 0px 1px 3px 1px rgba(0, 0, 0, 0.15);\n",
              "      filter: drop-shadow(0px 1px 2px rgba(0, 0, 0, 0.3));\n",
              "      fill: #FFFFFF;\n",
              "    }\n",
              "  </style>\n",
              "\n",
              "    <script>\n",
              "      const buttonEl =\n",
              "        document.querySelector('#df-7416699e-57ea-4549-8751-aacb4eaa6ce0 button.colab-df-convert');\n",
              "      buttonEl.style.display =\n",
              "        google.colab.kernel.accessAllowed ? 'block' : 'none';\n",
              "\n",
              "      async function convertToInteractive(key) {\n",
              "        const element = document.querySelector('#df-7416699e-57ea-4549-8751-aacb4eaa6ce0');\n",
              "        const dataTable =\n",
              "          await google.colab.kernel.invokeFunction('convertToInteractive',\n",
              "                                                    [key], {});\n",
              "        if (!dataTable) return;\n",
              "\n",
              "        const docLinkHtml = 'Like what you see? Visit the ' +\n",
              "          '<a target=\"_blank\" href=https://colab.research.google.com/notebooks/data_table.ipynb>data table notebook</a>'\n",
              "          + ' to learn more about interactive tables.';\n",
              "        element.innerHTML = '';\n",
              "        dataTable['output_type'] = 'display_data';\n",
              "        await google.colab.output.renderOutput(dataTable, element);\n",
              "        const docLink = document.createElement('div');\n",
              "        docLink.innerHTML = docLinkHtml;\n",
              "        element.appendChild(docLink);\n",
              "      }\n",
              "    </script>\n",
              "  </div>\n",
              "\n",
              "\n",
              "    <div id=\"df-35ad449c-75c0-4507-96cf-33082f0d9cbf\">\n",
              "      <button class=\"colab-df-quickchart\" onclick=\"quickchart('df-35ad449c-75c0-4507-96cf-33082f0d9cbf')\"\n",
              "                title=\"Suggest charts\"\n",
              "                style=\"display:none;\">\n",
              "\n",
              "<svg xmlns=\"http://www.w3.org/2000/svg\" height=\"24px\"viewBox=\"0 0 24 24\"\n",
              "     width=\"24px\">\n",
              "    <g>\n",
              "        <path d=\"M19 3H5c-1.1 0-2 .9-2 2v14c0 1.1.9 2 2 2h14c1.1 0 2-.9 2-2V5c0-1.1-.9-2-2-2zM9 17H7v-7h2v7zm4 0h-2V7h2v10zm4 0h-2v-4h2v4z\"/>\n",
              "    </g>\n",
              "</svg>\n",
              "      </button>\n",
              "\n",
              "<style>\n",
              "  .colab-df-quickchart {\n",
              "      --bg-color: #E8F0FE;\n",
              "      --fill-color: #1967D2;\n",
              "      --hover-bg-color: #E2EBFA;\n",
              "      --hover-fill-color: #174EA6;\n",
              "      --disabled-fill-color: #AAA;\n",
              "      --disabled-bg-color: #DDD;\n",
              "  }\n",
              "\n",
              "  [theme=dark] .colab-df-quickchart {\n",
              "      --bg-color: #3B4455;\n",
              "      --fill-color: #D2E3FC;\n",
              "      --hover-bg-color: #434B5C;\n",
              "      --hover-fill-color: #FFFFFF;\n",
              "      --disabled-bg-color: #3B4455;\n",
              "      --disabled-fill-color: #666;\n",
              "  }\n",
              "\n",
              "  .colab-df-quickchart {\n",
              "    background-color: var(--bg-color);\n",
              "    border: none;\n",
              "    border-radius: 50%;\n",
              "    cursor: pointer;\n",
              "    display: none;\n",
              "    fill: var(--fill-color);\n",
              "    height: 32px;\n",
              "    padding: 0;\n",
              "    width: 32px;\n",
              "  }\n",
              "\n",
              "  .colab-df-quickchart:hover {\n",
              "    background-color: var(--hover-bg-color);\n",
              "    box-shadow: 0 1px 2px rgba(60, 64, 67, 0.3), 0 1px 3px 1px rgba(60, 64, 67, 0.15);\n",
              "    fill: var(--button-hover-fill-color);\n",
              "  }\n",
              "\n",
              "  .colab-df-quickchart-complete:disabled,\n",
              "  .colab-df-quickchart-complete:disabled:hover {\n",
              "    background-color: var(--disabled-bg-color);\n",
              "    fill: var(--disabled-fill-color);\n",
              "    box-shadow: none;\n",
              "  }\n",
              "\n",
              "  .colab-df-spinner {\n",
              "    border: 2px solid var(--fill-color);\n",
              "    border-color: transparent;\n",
              "    border-bottom-color: var(--fill-color);\n",
              "    animation:\n",
              "      spin 1s steps(1) infinite;\n",
              "  }\n",
              "\n",
              "  @keyframes spin {\n",
              "    0% {\n",
              "      border-color: transparent;\n",
              "      border-bottom-color: var(--fill-color);\n",
              "      border-left-color: var(--fill-color);\n",
              "    }\n",
              "    20% {\n",
              "      border-color: transparent;\n",
              "      border-left-color: var(--fill-color);\n",
              "      border-top-color: var(--fill-color);\n",
              "    }\n",
              "    30% {\n",
              "      border-color: transparent;\n",
              "      border-left-color: var(--fill-color);\n",
              "      border-top-color: var(--fill-color);\n",
              "      border-right-color: var(--fill-color);\n",
              "    }\n",
              "    40% {\n",
              "      border-color: transparent;\n",
              "      border-right-color: var(--fill-color);\n",
              "      border-top-color: var(--fill-color);\n",
              "    }\n",
              "    60% {\n",
              "      border-color: transparent;\n",
              "      border-right-color: var(--fill-color);\n",
              "    }\n",
              "    80% {\n",
              "      border-color: transparent;\n",
              "      border-right-color: var(--fill-color);\n",
              "      border-bottom-color: var(--fill-color);\n",
              "    }\n",
              "    90% {\n",
              "      border-color: transparent;\n",
              "      border-bottom-color: var(--fill-color);\n",
              "    }\n",
              "  }\n",
              "</style>\n",
              "\n",
              "      <script>\n",
              "        async function quickchart(key) {\n",
              "          const quickchartButtonEl =\n",
              "            document.querySelector('#' + key + ' button');\n",
              "          quickchartButtonEl.disabled = true;  // To prevent multiple clicks.\n",
              "          quickchartButtonEl.classList.add('colab-df-spinner');\n",
              "          try {\n",
              "            const charts = await google.colab.kernel.invokeFunction(\n",
              "                'suggestCharts', [key], {});\n",
              "          } catch (error) {\n",
              "            console.error('Error during call to suggestCharts:', error);\n",
              "          }\n",
              "          quickchartButtonEl.classList.remove('colab-df-spinner');\n",
              "          quickchartButtonEl.classList.add('colab-df-quickchart-complete');\n",
              "        }\n",
              "        (() => {\n",
              "          let quickchartButtonEl =\n",
              "            document.querySelector('#df-35ad449c-75c0-4507-96cf-33082f0d9cbf button');\n",
              "          quickchartButtonEl.style.display =\n",
              "            google.colab.kernel.accessAllowed ? 'block' : 'none';\n",
              "        })();\n",
              "      </script>\n",
              "    </div>\n",
              "\n",
              "    </div>\n",
              "  </div>\n"
            ],
            "application/vnd.google.colaboratory.intrinsic+json": {
              "type": "dataframe",
              "variable_name": "df_test"
            }
          },
          "metadata": {},
          "execution_count": 11
        }
      ],
      "source": [
        "df_test.info()\n",
        "df_test.head()"
      ]
    },
    {
      "cell_type": "code",
      "execution_count": 12,
      "metadata": {
        "id": "UwvkCuHKp9ZL"
      },
      "outputs": [],
      "source": [
        "X_train = df_train.iloc[:, :-1]  # Extraemos las características\n",
        "y_train = df_train.iloc[:, -1]   # Extraemos las etiquetas\n",
        "\n",
        "X_test = df_test.iloc[:, :-1]\n",
        "y_test = df_test.iloc[:, -1]"
      ]
    },
    {
      "cell_type": "code",
      "execution_count": 13,
      "metadata": {
        "id": "9L9keEQup9ZL"
      },
      "outputs": [],
      "source": [
        "TARGET_NAMES = [\n",
        "    \"Normal beat\",\n",
        "    \"Supraventricular premature beat\",\n",
        "    \"Premature ventricular contraction\",\n",
        "    \"Fusion of ventricular and normal beat\",\n",
        "    \"Unclassifiable beat\",\n",
        "]"
      ]
    },
    {
      "cell_type": "markdown",
      "metadata": {
        "id": "tGZk4EoIp9ZM"
      },
      "source": [
        "### Distribución de clases\n",
        "\n",
        "Veamos la distribución de las clases en el conjunto de datos para comprender mejor el problema de clasificación que estamos abordando."
      ]
    },
    {
      "cell_type": "code",
      "execution_count": 14,
      "metadata": {
        "id": "yBH9yCmtp9ZM",
        "colab": {
          "base_uri": "https://localhost:8080/",
          "height": 619
        },
        "outputId": "abde2ad6-d565-4b23-ac69-50a1d0c9bb9c"
      },
      "outputs": [
        {
          "output_type": "stream",
          "name": "stdout",
          "text": [
            "187\n",
            "0.0    90589\n",
            "4.0     8039\n",
            "2.0     7236\n",
            "1.0     2779\n",
            "3.0      803\n",
            "Name: count, dtype: int64\n"
          ]
        },
        {
          "output_type": "execute_result",
          "data": {
            "text/plain": [
              "<Axes: title={'center': 'Número de muestras por clase'}, xlabel='187'>"
            ]
          },
          "metadata": {},
          "execution_count": 14
        },
        {
          "output_type": "display_data",
          "data": {
            "text/plain": [
              "<Figure size 640x480 with 1 Axes>"
            ],
            "image/png": "[encoded data removed]"
          },
          "metadata": {}
        }
      ],
      "source": [
        "class_count = df.iloc[:, -1].value_counts()\n",
        "print(class_count)\n",
        "\n",
        "class_count.sort_index().plot(kind=\"bar\", title=\"Número de muestras por clase\")"
      ]
    },
    {
      "cell_type": "markdown",
      "metadata": {
        "id": "757xMcLtp9ZM"
      },
      "source": [
        "Como se puede observar, las clases están desbalanceadas, lo que puede afectar el rendimiento de nuestro modelo. Por lo tanto, es importante tener en cuenta este desbalance al evaluar el rendimiento del modelo y considerar estrategias como el uso de pesos de clase o técnicas de aumento de datos."
      ]
    },
    {
      "cell_type": "markdown",
      "metadata": {
        "id": "irgUkgiAp9ZM"
      },
      "source": [
        "## Datasets y Dataloaders\n",
        "\n",
        "### Dataset\n",
        "\n",
        "Vamos a crear un `Dataset` personalizado para cargar y preprocesar los datos del MIT-BIH Arrhythmia Database. Este `Dataset` se encargará de cargar los datos desde nuestros dataframe de Pandas, aplicar transformaciones, y devolver los datos en el formato adecuado para ser procesados por nuestros modelos de PyTorch."
      ]
    },
    {
      "cell_type": "code",
      "execution_count": 15,
      "metadata": {
        "id": "f8mdwN56p9ZM"
      },
      "outputs": [],
      "source": [
        "class MITBIHDataSet(Dataset):\n",
        "    def __init__(self, df_features, df_target, num_classes):\n",
        "        self.x_df = df_features.values\n",
        "        self.y_df = df_target.values\n",
        "        self.num_classes = num_classes\n",
        "\n",
        "    def __len__(self):\n",
        "        return len(self.x_df)\n",
        "\n",
        "    def __getitem__(self, idx):\n",
        "        x = torch.tensor(self.x_df[idx], dtype=torch.float32)\n",
        "        y = torch.tensor(self.y_df[idx], dtype=torch.long)  # la cross-entropy loss necesita que el target sea long\n",
        "        return x, y"
      ]
    },
    {
      "cell_type": "markdown",
      "metadata": {
        "id": "aKwomqPMp9ZM"
      },
      "source": [
        "### Split de datos\n",
        "\n",
        "Vamos a dividir nuestro conjunto de datos en conjuntos de entrenamiento y validacion. Esta vez en vez de hacerlo con [torch.utils.data.random_split](https://pytorch.org/docs/stable/data.html#torch.utils.data.random_split) lo haremos con [sklearn.model_selection.train_test_split](https://scikit-learn.org/stable/modules/generated/sklearn.model_selection.train_test_split.html) para poder mantener el balance de clases en ambos conjuntos.\n",
        "\n",
        "> Por lo que pudimos observar en la exploración de datos, el conjunto de prueba ya tiene un balance de clases similar al conjunto de entrenamiento."
      ]
    },
    {
      "cell_type": "code",
      "execution_count": 16,
      "metadata": {
        "id": "fhpXi2Rzp9ZM"
      },
      "outputs": [],
      "source": [
        "# Dividir los datos en conjuntos de entrenamiento y prueba\n",
        "X_train, X_val, y_train, y_val = train_test_split(\n",
        "    X_train, y_train, test_size=0.2, random_state=SEED, stratify=y_train\n",
        ")\n",
        "\n",
        "# stratify preserva la distribucion de los datos."
      ]
    },
    {
      "cell_type": "code",
      "execution_count": 17,
      "metadata": {
        "id": "eHReuK-Mp9ZN",
        "colab": {
          "base_uri": "https://localhost:8080/",
          "height": 432
        },
        "outputId": "d8355d28-4d9c-4f92-a134-fe0b463b1ebc"
      },
      "outputs": [
        {
          "output_type": "display_data",
          "data": {
            "text/plain": [
              "<Figure size 1800x600 with 2 Axes>"
            ],
            "image/png": "[encoded data removed]"
          },
          "metadata": {}
        }
      ],
      "source": [
        "# Contar la frecuencia de cada clase en cada conjunto\n",
        "class_counts_train = y_train.value_counts()\n",
        "class_counts_val = y_val.value_counts()\n",
        "\n",
        "# Crear subplots para los histogramas\n",
        "fig, axes = plt.subplots(1, 2, figsize=(18, 6))\n",
        "\n",
        "# Histograma para train\n",
        "axes[0].bar(class_counts_train.index, class_counts_train.values, color=\"skyblue\")\n",
        "axes[0].set_title(\"Distribución de Clases en trian\")\n",
        "axes[0].set_xlabel(\"Clases\")\n",
        "axes[0].set_ylabel(\"Frecuencia\")\n",
        "\n",
        "# Histograma para val\n",
        "axes[1].bar(class_counts_val.index, class_counts_val.values, color=\"lightgreen\")\n",
        "axes[1].set_title(\"Distribución de Clases en val\")\n",
        "axes[1].set_xlabel(\"Clases\")\n",
        "axes[1].set_ylabel(\"Frecuencia\")\n",
        "\n",
        "plt.show()"
      ]
    },
    {
      "cell_type": "code",
      "execution_count": 18,
      "metadata": {
        "id": "CeA6H85Rp9ZN"
      },
      "outputs": [],
      "source": [
        "train_dataset = MITBIHDataSet(X_train, y_train, nclasses)\n",
        "val_dataset = MITBIHDataSet(X_val, y_val, nclasses)\n",
        "test_dataset = MITBIHDataSet(X_test, y_test, nclasses)"
      ]
    },
    {
      "cell_type": "markdown",
      "metadata": {
        "id": "62mPZWugp9ZN"
      },
      "source": [
        "### DataLoaders\n",
        "\n",
        "Definimos los dataloaders para cada conjunto de datos, estos son los que se encargan de cargar los datos en lotes durante el entrenamiento y la evaluación del modelo."
      ]
    },
    {
      "cell_type": "code",
      "execution_count": 19,
      "metadata": {
        "id": "RiugSlrdp9ZN"
      },
      "outputs": [],
      "source": [
        "def get_data_loaders(batch_size):\n",
        "\n",
        "    train_loader = DataLoader(\n",
        "        train_dataset, batch_size=batch_size, shuffle=True, num_workers=NUM_WORKERS\n",
        "    )\n",
        "\n",
        "    val_loader = DataLoader(\n",
        "        val_dataset, batch_size=batch_size, shuffle=False, num_workers=NUM_WORKERS\n",
        "    )\n",
        "\n",
        "    test_loader = DataLoader(\n",
        "        test_dataset, batch_size=batch_size, shuffle=False, num_workers=NUM_WORKERS\n",
        "    )\n",
        "\n",
        "    return train_loader, val_loader, test_loader"
      ]
    },
    {
      "cell_type": "code",
      "execution_count": 20,
      "metadata": {
        "id": "bWz4x5m5p9ZN",
        "colab": {
          "base_uri": "https://localhost:8080/"
        },
        "outputId": "2a9705c5-b5d8-45e7-9eae-7fe2e902fbb9"
      },
      "outputs": [
        {
          "output_type": "stream",
          "name": "stderr",
          "text": [
            "/usr/local/lib/python3.12/dist-packages/torch/utils/data/dataloader.py:627: UserWarning: This DataLoader will create 4 worker processes in total. Our suggested max number of worker in current system is 2, which is smaller than what this DataLoader is going to create. Please be aware that excessive worker creation might get DataLoader running slow or even freeze, lower the worker number to avoid potential slowness/freeze if necessary.\n",
            "  warnings.warn(\n"
          ]
        },
        {
          "output_type": "stream",
          "name": "stdout",
          "text": [
            "torch.Size([2048, 187]) torch.Size([2048])\n"
          ]
        }
      ],
      "source": [
        "train_loader, val_loader, test_loader = get_data_loaders(\n",
        "    BATCH_SIZE\n",
        ")  # obtenemos los dataloaders\n",
        "\n",
        "# probamos un batch del DataLoader\n",
        "x_batch, y_batch = next(iter(train_loader))\n",
        "print(x_batch.shape, y_batch.shape)"
      ]
    },
    {
      "cell_type": "markdown",
      "metadata": {
        "id": "1oSfdaFYp9ZN"
      },
      "source": [
        "## Definición de modelo\n",
        "\n",
        "Empezaremos definiendo un modelo de clasificación simple en PyTorch. Este modelo constará de dos capas."
      ]
    },
    {
      "cell_type": "code",
      "execution_count": 21,
      "metadata": {
        "id": "MM0s29vBp9ZN",
        "colab": {
          "base_uri": "https://localhost:8080/"
        },
        "outputId": "898aff9f-60b7-4d41-c7fe-c3c8f1d48b07"
      },
      "outputs": [
        {
          "output_type": "execute_result",
          "data": {
            "text/plain": [
              "==========================================================================================\n",
              "Layer (type:depth-idx)                   Output Shape              Param #\n",
              "==========================================================================================\n",
              "MLP                                      [2048, 5]                 --\n",
              "├─Linear: 1-1                            [2048, 512]               96,256\n",
              "├─ReLU: 1-2                              [2048, 512]               --\n",
              "├─Linear: 1-3                            [2048, 2048]              1,050,624\n",
              "├─ReLU: 1-4                              [2048, 2048]              --\n",
              "├─Linear: 1-5                            [2048, 5]                 10,245\n",
              "==========================================================================================\n",
              "Total params: 1,157,125\n",
              "Trainable params: 1,157,125\n",
              "Non-trainable params: 0\n",
              "Total mult-adds (Units.GIGABYTES): 2.37\n",
              "==========================================================================================\n",
              "Input size (MB): 1.53\n",
              "Forward/backward pass size (MB): 42.02\n",
              "Params size (MB): 4.63\n",
              "Estimated Total Size (MB): 48.19\n",
              "=========================================================================================="
            ]
          },
          "metadata": {},
          "execution_count": 21
        }
      ],
      "source": [
        "# MLP                                      [2048, 5]\n",
        "# ├─Linear: 1-1                            [2048, 512]\n",
        "# ├─Linear: 1-2                            [2048, 2048]\n",
        "# ├─Linear: 1-3                            [2048, 5] (5 clases, 2048 batch size)\n",
        "\n",
        "class MLP(nn.Module):\n",
        "    def __init__(self, input_size, nclass):\n",
        "        super(MLP, self).__init__()\n",
        "        self.input = nn.Linear(input_size, 512)\n",
        "        self.hidden = nn.Linear(512, 2048)\n",
        "        self.output = nn.Linear(2048, nclass)\n",
        "        self.relu = nn.ReLU()\n",
        "\n",
        "    def forward(self, x):\n",
        "        x = self.relu(self.input(x))\n",
        "        x = self.relu(self.hidden(x))\n",
        "        x = self.output(x)\n",
        "        return x\n",
        "\n",
        "summary(MLP(ninputs, nclasses), input_size=(BATCH_SIZE, ninputs))\n",
        "\n",
        "# en cada paso usamos la relu como activacion"
      ]
    },
    {
      "cell_type": "markdown",
      "metadata": {
        "id": "3DpG26rfp9ZO"
      },
      "source": [
        "## Entrenamiento"
      ]
    },
    {
      "cell_type": "code",
      "execution_count": 22,
      "metadata": {
        "id": "Xt61RmoQp9ZO"
      },
      "outputs": [],
      "source": [
        "def evaluate(model, criterion, data_loader, device=DEVICE):\n",
        "    \"\"\"\n",
        "    Evalúa el modelo en los datos proporcionados y calcula la pérdida promedio.\n",
        "\n",
        "    Args:\n",
        "        model (torch.nn.Module): El modelo que se va a evaluar.\n",
        "        criterion (torch.nn.Module): La función de pérdida que se utilizará para calcular la pérdida.\n",
        "        data_loader (torch.utils.data.DataLoader): DataLoader que proporciona los datos de evaluación.\n",
        "\n",
        "    Returns:\n",
        "        float: La pérdida promedio en el conjunto de datos de evaluación.\n",
        "\n",
        "    \"\"\"\n",
        "    model.eval()  # ponemos el modelo en modo de evaluacion\n",
        "    total_loss = 0 # acumulador de la perdida\n",
        "    with torch.no_grad(): # deshabilitamos el calculo de gradientes\n",
        "        for x, y in data_loader: # iteramos sobre el dataloader\n",
        "            x = x.to(device) # movemos los datos al dispositivo\n",
        "            y = y.to(device) # movemos los datos al dispositivo\n",
        "            output = model(x) # forward pass\n",
        "            total_loss += criterion(output, y).item() # acumulamos la perdida\n",
        "    return total_loss / len(data_loader) # retornamos la perdida promedio\n",
        "\n",
        "\n",
        "def train(\n",
        "    model,\n",
        "    optimizer,\n",
        "    criterion,\n",
        "    train_loader,\n",
        "    val_loader,\n",
        "    device=DEVICE,\n",
        "    epochs=10,\n",
        "    log_fn=None,\n",
        "    log_every=1,\n",
        "):\n",
        "    \"\"\"\n",
        "    Entrena el modelo utilizando el optimizador y la función de pérdida proporcionados.\n",
        "\n",
        "    Args:\n",
        "        model (torch.nn.Module): El modelo que se va a entrenar.\n",
        "        optimizer (torch.optim.Optimizer): El optimizador que se utilizará para actualizar los pesos del modelo.\n",
        "        criterion (torch.nn.Module): La función de pérdida que se utilizará para calcular la pérdida.\n",
        "        train_loader (torch.utils.data.DataLoader): DataLoader que proporciona los datos de entrenamiento.\n",
        "        val_loader (torch.utils.data.DataLoader): DataLoader que proporciona los datos de validación.\n",
        "        epochs (int): Número de épocas de entrenamiento (default: 10).\n",
        "        log_fn (function): Función que se llamará después de cada log_every épocas con los argumentos (epoch, train_loss, val_loss) (default: None).\n",
        "        log_every (int): Número de épocas entre cada llamada a log_fn (default: 1).\n",
        "\n",
        "    Returns:\n",
        "        Tuple[List[float], List[float]]: Una tupla con dos listas, la primera con el error de entrenamiento de cada época y la segunda con el error de validación de cada época.\n",
        "\n",
        "    \"\"\"\n",
        "    epoch_train_errors = []  # colectamos el error de traing para posterior analisis\n",
        "    epoch_val_errors = []  # colectamos el error de validacion para posterior analisis\n",
        "\n",
        "    for epoch in range(epochs): # loop de entrenamiento\n",
        "        model.train()  # ponemos el modelo en modo de entrenamiento\n",
        "        train_loss = 0 # acumulador de la perdida de entrenamiento\n",
        "        for x, y in train_loader:\n",
        "            x = x.to(device) # movemos los datos al dispositivo\n",
        "            y = y.to(device) # movemos los datos al dispositivo\n",
        "\n",
        "            optimizer.zero_grad() # reseteamos los gradientes\n",
        "\n",
        "            output = model(x) # forward pass (prediccion)\n",
        "            batch_loss = criterion(output, y) # calculamos la perdida con la salida esperada\n",
        "\n",
        "            batch_loss.backward() # backpropagation\n",
        "            optimizer.step() # actualizamos los pesos\n",
        "\n",
        "            train_loss += batch_loss.item() # acumulamos la perdida\n",
        "\n",
        "        train_loss /= len(train_loader) # calculamos la perdida promedio de la epoca\n",
        "        epoch_train_errors.append(train_loss) # guardamos la perdida de entrenamiento\n",
        "        val_loss = evaluate(model, criterion, val_loader) # evaluamos el modelo en el conjunto de validacion\n",
        "        epoch_val_errors.append(val_loss) # guardamos la perdida de validacion\n",
        "\n",
        "        if log_fn is not None: # si se pasa una funcion de log\n",
        "            if (epoch + 1) % log_every == 0: # loggeamos cada log_every epocas\n",
        "                log_fn(epoch, train_loss, val_loss) # llamamos a la funcion de log\n",
        "\n",
        "    return epoch_train_errors, epoch_val_errors"
      ]
    },
    {
      "cell_type": "code",
      "execution_count": 23,
      "metadata": {
        "id": "vioE45Vhp9ZO"
      },
      "outputs": [],
      "source": [
        "LR = 0.01\n",
        "CRITERION = nn.CrossEntropyLoss().to(DEVICE)\n",
        "EPOCHS = 100"
      ]
    },
    {
      "cell_type": "code",
      "execution_count": 24,
      "metadata": {
        "id": "KT2LiEdip9ZO",
        "colab": {
          "base_uri": "https://localhost:8080/"
        },
        "outputId": "e3fa3f00-6c52-43cf-da21-4a9b96d62fb5"
      },
      "outputs": [
        {
          "output_type": "stream",
          "name": "stderr",
          "text": [
            "/usr/local/lib/python3.12/dist-packages/torch/utils/data/dataloader.py:627: UserWarning: This DataLoader will create 4 worker processes in total. Our suggested max number of worker in current system is 2, which is smaller than what this DataLoader is going to create. Please be aware that excessive worker creation might get DataLoader running slow or even freeze, lower the worker number to avoid potential slowness/freeze if necessary.\n",
            "  warnings.warn(\n"
          ]
        },
        {
          "output_type": "stream",
          "name": "stdout",
          "text": [
            "Epoch: 005/100 | Train Loss: 0.17340 | Val Loss: 0.17054\n",
            "Epoch: 010/100 | Train Loss: 0.11157 | Val Loss: 0.12012\n",
            "Epoch: 015/100 | Train Loss: 0.08694 | Val Loss: 0.09789\n",
            "Epoch: 020/100 | Train Loss: 0.07802 | Val Loss: 0.09449\n",
            "Epoch: 025/100 | Train Loss: 0.06557 | Val Loss: 0.09478\n",
            "Epoch: 030/100 | Train Loss: 0.05908 | Val Loss: 0.08345\n",
            "Epoch: 035/100 | Train Loss: 0.05353 | Val Loss: 0.08289\n",
            "Epoch: 040/100 | Train Loss: 0.05033 | Val Loss: 0.09059\n",
            "Epoch: 045/100 | Train Loss: 0.04836 | Val Loss: 0.08720\n",
            "Epoch: 050/100 | Train Loss: 0.03619 | Val Loss: 0.09086\n",
            "Epoch: 055/100 | Train Loss: 0.03940 | Val Loss: 0.09369\n",
            "Epoch: 060/100 | Train Loss: 0.03260 | Val Loss: 0.08874\n",
            "Epoch: 065/100 | Train Loss: 0.02903 | Val Loss: 0.11537\n",
            "Epoch: 070/100 | Train Loss: 0.02606 | Val Loss: 0.09143\n",
            "Epoch: 075/100 | Train Loss: 0.02660 | Val Loss: 0.09052\n",
            "Epoch: 080/100 | Train Loss: 0.02579 | Val Loss: 0.09793\n",
            "Epoch: 085/100 | Train Loss: 0.02468 | Val Loss: 0.10459\n",
            "Epoch: 090/100 | Train Loss: 0.02680 | Val Loss: 0.10722\n",
            "Epoch: 095/100 | Train Loss: 0.02257 | Val Loss: 0.10254\n",
            "Epoch: 100/100 | Train Loss: 0.01687 | Val Loss: 0.11541\n"
          ]
        }
      ],
      "source": [
        "def print_log(epoch, train_loss, val_loss):\n",
        "    print(\n",
        "        f\"Epoch: {epoch + 1:03d}/{EPOCHS:03d} | Train Loss: {train_loss:.5f} | Val Loss: {val_loss:.5f}\"\n",
        "    )\n",
        "\n",
        "base_model = MLP(ninputs, nclasses).to(DEVICE)\n",
        "\n",
        "optimizer = optim.Adam(base_model.parameters(), lr=LR)\n",
        "\n",
        "epoch_train_errors, epoch_val_errors = train(\n",
        "    base_model,\n",
        "    optimizer,\n",
        "    CRITERION,\n",
        "    train_loader,\n",
        "    val_loader,\n",
        "    DEVICE,\n",
        "    EPOCHS,\n",
        "    print_log,\n",
        "    5,\n",
        ")"
      ]
    },
    {
      "cell_type": "markdown",
      "metadata": {
        "id": "LaL29bE9p9ZO"
      },
      "source": [
        "## Loss durante el entrenamiento"
      ]
    },
    {
      "cell_type": "code",
      "execution_count": 25,
      "metadata": {
        "id": "OVw4Npf6p9ZP",
        "colab": {
          "base_uri": "https://localhost:8080/",
          "height": 957
        },
        "outputId": "ae3fc4b5-f08a-47e7-eddf-fbb22d6b8b06"
      },
      "outputs": [
        {
          "output_type": "display_data",
          "data": {
            "text/plain": [
              "<Figure size 1000x500 with 1 Axes>"
            ],
            "image/png": "[encoded data removed]"
          },
          "metadata": {}
        },
        {
          "output_type": "display_data",
          "data": {
            "text/plain": [
              "<Figure size 1000x500 with 1 Axes>"
            ],
            "image/png": "[encoded data removed]"
          },
          "metadata": {}
        }
      ],
      "source": [
        "# graficamos los errores de entrenamiento y validación\n",
        "plot_taining(epoch_train_errors, epoch_val_errors)\n",
        "# graficamos los errores de entrenamiento y validación a partir de la época 5\n",
        "plot_taining(epoch_train_errors[5:], epoch_val_errors[5:])"
      ]
    },
    {
      "cell_type": "markdown",
      "metadata": {
        "id": "8zjkqX22p9ZP"
      },
      "source": [
        "## Evaluación\n",
        "\n",
        "Vamos a evaluar el rendimiento de nuestro modelo en el conjunto de prueba utilizando métricas como la precisión, el recall y la matriz de confusión."
      ]
    },
    {
      "cell_type": "code",
      "execution_count": 26,
      "metadata": {
        "id": "DQXj5Dg7p9ZP"
      },
      "outputs": [],
      "source": [
        "def model_classification_report(model, dataloader):\n",
        "    # Evaluación del modelo\n",
        "    model.eval()\n",
        "\n",
        "    all_preds = []\n",
        "    all_labels = []\n",
        "\n",
        "    model = model.to(DEVICE)\n",
        "\n",
        "    with torch.no_grad():\n",
        "      for x,y in dataloader:\n",
        "        x = x.to(DEVICE)  # x pasa por el modelo por eso lo pasamos a device\n",
        "        # y = y.to(DEVICE) # no vamos a usar y para comparar con la salida asi que no necesitamos que este en el device\n",
        "        output = model(x)\n",
        "        pred = torch.argmax(output, dim=1)  # argmax encuentra el indice del valor maximo ; dim=1 mira cada fila (dimension de las clases)\n",
        "        all_preds.extend(pred.cpu().numpy())\n",
        "        all_labels.extend(y.cpu().numpy())  # el extend es como el append pero con un conjunto de elementos\n",
        "        # hay que pasar c a cpu para poder usar el numpy\n",
        "\n",
        "    # Calcular precisión (accuracy)\n",
        "    accuracy = accuracy_score(all_labels, all_preds)\n",
        "    print(f\"Accuracy: {accuracy:.4f}\\n\")\n",
        "\n",
        "    # Reporte de clasificación\n",
        "    report = classification_report(\n",
        "        all_labels, all_preds, target_names=TARGET_NAMES\n",
        "    )\n",
        "    print(\"Reporte de clasificación:\\n\", report)"
      ]
    },
    {
      "cell_type": "code",
      "execution_count": 27,
      "metadata": {
        "id": "-jtOCelQp9ZP",
        "colab": {
          "base_uri": "https://localhost:8080/"
        },
        "outputId": "7f44b8d7-226a-43ff-cfa0-cf1bdfa6e623"
      },
      "outputs": [
        {
          "output_type": "stream",
          "name": "stdout",
          "text": [
            "Accuracy: 0.9757\n",
            "\n",
            "Reporte de clasificación:\n",
            "                                        precision    recall  f1-score   support\n",
            "\n",
            "                          Normal beat       0.98      0.99      0.99     18118\n",
            "      Supraventricular premature beat       0.76      0.73      0.74       556\n",
            "    Premature ventricular contraction       0.96      0.91      0.93      1448\n",
            "Fusion of ventricular and normal beat       0.78      0.78      0.78       162\n",
            "                  Unclassifiable beat       0.98      0.98      0.98      1608\n",
            "\n",
            "                             accuracy                           0.98     21892\n",
            "                            macro avg       0.89      0.88      0.89     21892\n",
            "                         weighted avg       0.98      0.98      0.98     21892\n",
            "\n"
          ]
        }
      ],
      "source": [
        "model_classification_report(base_model, test_loader)"
      ]
    },
    {
      "cell_type": "markdown",
      "metadata": {
        "id": "hy63Dnjrp9ZP"
      },
      "source": [
        "**Métricas por Clase**\n",
        "- **Precision:** De lo que predije como esta clase, ¿cuánto acerté? (↑ = menos falsos positivos)\n",
        "  - `Precision = TP / (TP + FP)`\n",
        "- **Recall:** De todos los casos reales, ¿cuántos detecté? (↑ = menos falsos negativos)  \n",
        "  - `Recall = TP / (TP + FN)`\n",
        "- **F1-Score:** Balance entre precision y recall (media armónica)\n",
        "  - `F1 = 2 * (Precision * Recall) / (Precision + Recall)`\n",
        "- **Support:** Cantidad de muestras reales de esa clase\n",
        "\n",
        "**Métricas Globales**\n",
        "- **Accuracy:** % total de aciertos `(TP + TN) / Total`\n",
        "- **Macro Avg:** Promedio simple (todas las clases pesan igual)\n",
        "- **Weighted Avg:** Promedio ponderado por support (refleja desbalance)\n",
        "\n",
        "**Interpretación Rápida**\n",
        "- Valores → 1.0 = Mejor | Valores → 0.0 = Peor\n",
        "- Precision > Recall = Modelo conservador\n",
        "- Recall > Precision = Modelo agresivo  \n",
        "- Macro < Weighted = Mejor en clases mayoritarias\n",
        "- Support desigual = Dataset desbalanceado\n",
        "\n",
        "> **Donde:** TP = True Positives, FP = False Positives, FN = False Negatives, TN = True Negatives"
      ]
    },
    {
      "cell_type": "markdown",
      "metadata": {
        "id": "fm6XV3M2p9ZP"
      },
      "source": [
        "## Ejercicios\n",
        "\n",
        "1. **Implementar dropout**: Agregar más capas lineales al modelo y aplicar dropout después de cada capa. Evaluar el impacto de dropout en el rendimiento del modelo.\n",
        "\n",
        "2. **Implementar early stopping**: Implementar la técnica de early stopping para detener el entrenamiento cuando el rendimiento del modelo deja de mejorar en el conjunto de validación. Evaluar el impacto de early stopping en el rendimiento del modelo.\n",
        "\n",
        "3. **Implementar label smoothing**: Implementar la técnica de label smoothing para mejorar la generalización del modelo. Evaluar el impacto de label smoothing en el rendimiento del modelo.\n",
        "\n",
        "4. **Modelo libre**: Implementar un modelo de clasificación en PyTorch utilizando el MIT-BIH Arrhythmia Database. Experimentar con diferentes arquitecturas de modelos, hiperparámetros y técnicas de regularización para mejorar el rendimiento del modelo.\n",
        "\n",
        "5. **Comparación de modelos**: Con cuál de los modelos te quedarías si:\n",
        "    - Tuvieras que elegir el modelo con mejor precisión en promedio.\n",
        "    - Tuvieras que elegir el modelo con mejor recall en promedio.\n",
        "    - Tuvieras que elegir el modelo con mejor F1-score en promedio."
      ]
    },
    {
      "cell_type": "markdown",
      "metadata": {
        "id": "F8Ue_Eabp9ZP"
      },
      "source": [
        "### Ejericio 1: Implementar dropout\n",
        "\n",
        "[Dropout](https://jmlr.org/papers/v15/srivastava14a.html) es una técnica de regularización utilizada en redes neuronales para prevenir el sobreajuste (overfitting). Consiste en desactivar aleatoriamente un subconjunto de neuronas durante el entrenamiento en cada paso de propagación hacia adelante. Esto ayuda a la red a no depender demasiado de ninguna neurona en particular, promoviendo una representación más robusta y generalizable de los datos.\n",
        "\n",
        "**¿Cómo Funciona Dropout?**\n",
        "\n",
        "Durante el entrenamiento, Dropout:\n",
        "1. **Apagado Aleatorio de Neuronas**: Un porcentaje de neuronas se apaga aleatoriamente en cada iteración.\n",
        "2. **Escalado de Neuronas Activas**: Las activaciones de las neuronas restantes se escalan para mantener el equilibrio en la red.\n",
        "\n",
        "**Evaluación y Dropout**\n",
        "\n",
        "Durante la evaluación, es crucial que las capas Dropout se comporten de manera diferente:\n",
        "- **Entrenamiento (`model.train()`)**: Dropout está activo, apagando neuronas y escalando las activaciones.\n",
        "- **Evaluación (`model.eval()`)**: Dropout está desactivado, permitiendo que todas las neuronas estén activas sin escalado de activaciones. Esto asegura que el modelo utilice toda su capacidad para hacer predicciones.\n",
        "\n",
        "**Implementación de Dropout en PyTorch**\n",
        "\n",
        "En PyTorch, podemos implementar Dropout utilizando la capa [`torch.nn.Dropout`](https://pytorch.org/docs/stable/generated/torch.nn.Dropout.html). Esta capa apaga aleatoriamente un porcentaje de neuronas durante el entrenamiento y escala las activaciones durante la evaluación."
      ]
    },
    {
      "cell_type": "code",
      "execution_count": 28,
      "metadata": {
        "id": "0R1leZ5Cp9Zb",
        "colab": {
          "base_uri": "https://localhost:8080/"
        },
        "outputId": "eda79e0e-d1d3-4b10-a299-c7e510675d9d"
      },
      "outputs": [
        {
          "output_type": "stream",
          "name": "stdout",
          "text": [
            "tensor([[0.7557, 0.0139, 0.0531, 0.8224, 0.7408],\n",
            "        [0.6975, 0.4650, 0.9273, 0.6753, 0.5438]])\n"
          ]
        }
      ],
      "source": [
        "rand_torch = torch.rand((2,5)) # genero datos al azar\n",
        "print(rand_torch) # imprimimos sus valores\n",
        "drop_layer = nn.Dropout(0.5) # creamos una capa de dropout con un 50% de apagar una neurona"
      ]
    },
    {
      "cell_type": "code",
      "execution_count": 29,
      "metadata": {
        "id": "1FQ17cB8p9Zb",
        "colab": {
          "base_uri": "https://localhost:8080/"
        },
        "outputId": "44d88465-8f3d-4106-8f95-4067f95bd505"
      },
      "outputs": [
        {
          "output_type": "stream",
          "name": "stdout",
          "text": [
            "tensor([[1.5114, 0.0278, 0.1062, 1.6448, 0.0000],\n",
            "        [0.0000, 0.0000, 1.8546, 1.3505, 1.0877]])\n"
          ]
        }
      ],
      "source": [
        "drop_layer.train() # por defecto ya esta en train mode\n",
        "print(drop_layer(rand_torch)) # 1) apaga (pone en 0) con una probablidad p definida en la capa 2) pondera los valores restantes proporcionalmente"
      ]
    },
    {
      "cell_type": "code",
      "execution_count": 30,
      "metadata": {
        "id": "MaZLu2Hrp9Zb",
        "colab": {
          "base_uri": "https://localhost:8080/"
        },
        "outputId": "f4539412-64c2-497a-e5a5-bab737158d6f"
      },
      "outputs": [
        {
          "output_type": "stream",
          "name": "stdout",
          "text": [
            "tensor([[0.7557, 0.0139, 0.0531, 0.8224, 0.7408],\n",
            "        [0.6975, 0.4650, 0.9273, 0.6753, 0.5438]])\n"
          ]
        }
      ],
      "source": [
        "drop_layer.eval() # al ponerlo en eval no deberia surtir efecto al pasar por la capa\n",
        "print(drop_layer(rand_torch))"
      ]
    },
    {
      "cell_type": "markdown",
      "metadata": {
        "id": "PKv0KgK6p9Zb"
      },
      "source": [
        "Algunas reglas prácticas para usar Dropout de manera efectiva:\n",
        "\n",
        "- **Ubicación: \"Después de Activación, Nunca en Output\"**\n",
        "```python\n",
        "x = F.relu(self.fc(x))\n",
        "x = self.dropout(x)  # ✅ Después de activación\n",
        "# ❌ NUNCA dropout en la capa final\n",
        "```\n",
        "\n",
        "- **Valores: \"20-50 Rule\"**\n",
        "```python\n",
        "dropout = nn.Dropout(0.5)    # Capas ocultas (default)\n",
        "dropout = nn.Dropout(0.2)    # CNNs, RNNs, entrada\n",
        "# Si dudas → usa 0.3\n",
        "```\n",
        "\n",
        "- **Train/Eval: \"Siempre Cambia Modo\"**\n",
        "```python\n",
        "model.train()   # Entrenamiento\n",
        "model.eval()    # ⚠️ CRÍTICO para inferencia\n",
        "```\n",
        "\n",
        "- **Cuándo Usar: \"Solo si Overfittea\"**\n",
        "```python\n",
        "# train_acc=99%, val_acc=85% → Agrega dropout\n",
        "# train_acc=80%, val_acc=78% → No necesitas\n",
        "# Empieza sin dropout, agrega si necesitas\n",
        "```\n",
        "\n",
        "- **Arquitectura: \"Más Profundo = Menos Dropout\"**\n",
        "```python\n",
        "# 2-3 capas:  p=0.5\n",
        "# 5-10 capas: p=0.2-0.3  \n",
        "# 10+ capas:  p=0.1 o nada\n",
        "```"
      ]
    },
    {
      "cell_type": "code",
      "execution_count": 31,
      "metadata": {
        "id": "20jegg2Np9Zb",
        "colab": {
          "base_uri": "https://localhost:8080/"
        },
        "outputId": "00382573-d91c-4b53-831b-6e0757c89c36"
      },
      "outputs": [
        {
          "output_type": "execute_result",
          "data": {
            "text/plain": [
              "==========================================================================================\n",
              "Layer (type:depth-idx)                   Output Shape              Param #\n",
              "==========================================================================================\n",
              "MLP_EJ1                                  [2048, 5]                 --\n",
              "├─Linear: 1-1                            [2048, 512]               96,256\n",
              "├─ReLU: 1-2                              [2048, 512]               --\n",
              "├─Dropout: 1-3                           [2048, 512]               --\n",
              "├─Linear: 1-4                            [2048, 2048]              1,050,624\n",
              "├─ReLU: 1-5                              [2048, 2048]              --\n",
              "├─Dropout: 1-6                           [2048, 2048]              --\n",
              "├─Linear: 1-7                            [2048, 5]                 10,245\n",
              "==========================================================================================\n",
              "Total params: 1,157,125\n",
              "Trainable params: 1,157,125\n",
              "Non-trainable params: 0\n",
              "Total mult-adds (Units.GIGABYTES): 2.37\n",
              "==========================================================================================\n",
              "Input size (MB): 1.53\n",
              "Forward/backward pass size (MB): 42.02\n",
              "Params size (MB): 4.63\n",
              "Estimated Total Size (MB): 48.19\n",
              "=========================================================================================="
            ]
          },
          "metadata": {},
          "execution_count": 31
        }
      ],
      "source": [
        "class MLP_EJ1(nn.Module):\n",
        "    def __init__(self, input_size, nclass, dropout=0.5):\n",
        "        super(MLP_EJ1, self).__init__()\n",
        "        self.input = nn.Linear(input_size, 512)\n",
        "        self.hidden = nn.Linear(512, 2048)\n",
        "        self.output = nn.Linear(2048, nclass)\n",
        "        self.relu = nn.ReLU()\n",
        "        self.drop = nn.Dropout(dropout)\n",
        "\n",
        "    def forward(self, x):\n",
        "        # generalmente no se hace dropout en la capa del input porque lo que queremos es reducir aprendizaje de ruido, pero queremos seguir recibiendo todos los datos\n",
        "        x = self.relu(self.input(x))\n",
        "        x = self.drop(x)\n",
        "        x = self.relu(self.hidden(x))\n",
        "        x = self.drop(x)\n",
        "        return self.output(x)\n",
        "\n",
        "\n",
        "summary(MLP_EJ1(ninputs, nclasses), input_size=(BATCH_SIZE, ninputs))"
      ]
    },
    {
      "cell_type": "markdown",
      "metadata": {
        "id": "k_1mYvAsp9Zb"
      },
      "source": [
        "Algunas preguntas para pensar:\n",
        "- ¿Por qué dropout no tiene parametros entrenables?\n",
        "- ¿Qué pasaría si no ponemos el modelo en eval mode durante la evaluación?"
      ]
    },
    {
      "cell_type": "code",
      "execution_count": 32,
      "metadata": {
        "id": "3ev6WAHzp9Zb",
        "colab": {
          "base_uri": "https://localhost:8080/"
        },
        "outputId": "0f0f8671-80e1-44eb-c77f-a46826566223"
      },
      "outputs": [
        {
          "output_type": "stream",
          "name": "stderr",
          "text": [
            "/usr/local/lib/python3.12/dist-packages/torch/utils/data/dataloader.py:627: UserWarning: This DataLoader will create 4 worker processes in total. Our suggested max number of worker in current system is 2, which is smaller than what this DataLoader is going to create. Please be aware that excessive worker creation might get DataLoader running slow or even freeze, lower the worker number to avoid potential slowness/freeze if necessary.\n",
            "  warnings.warn(\n"
          ]
        },
        {
          "output_type": "stream",
          "name": "stdout",
          "text": [
            "Epoch: 005/100 | Train Loss: 0.24630 | Val Loss: 0.19693\n",
            "Epoch: 010/100 | Train Loss: 0.18763 | Val Loss: 0.15728\n",
            "Epoch: 015/100 | Train Loss: 0.16431 | Val Loss: 0.13552\n",
            "Epoch: 020/100 | Train Loss: 0.14634 | Val Loss: 0.13048\n",
            "Epoch: 025/100 | Train Loss: 0.14277 | Val Loss: 0.11590\n",
            "Epoch: 030/100 | Train Loss: 0.13359 | Val Loss: 0.10660\n",
            "Epoch: 035/100 | Train Loss: 0.13234 | Val Loss: 0.11227\n",
            "Epoch: 040/100 | Train Loss: 0.12288 | Val Loss: 0.10216\n",
            "Epoch: 045/100 | Train Loss: 0.11759 | Val Loss: 0.09526\n",
            "Epoch: 050/100 | Train Loss: 0.11538 | Val Loss: 0.09521\n",
            "Epoch: 055/100 | Train Loss: 0.11094 | Val Loss: 0.09431\n",
            "Epoch: 060/100 | Train Loss: 0.10779 | Val Loss: 0.09186\n",
            "Epoch: 065/100 | Train Loss: 0.10427 | Val Loss: 0.09843\n",
            "Epoch: 070/100 | Train Loss: 0.10614 | Val Loss: 0.09098\n",
            "Epoch: 075/100 | Train Loss: 0.10078 | Val Loss: 0.08710\n",
            "Epoch: 080/100 | Train Loss: 0.10526 | Val Loss: 0.09293\n",
            "Epoch: 085/100 | Train Loss: 0.10247 | Val Loss: 0.09099\n",
            "Epoch: 090/100 | Train Loss: 0.09673 | Val Loss: 0.08574\n",
            "Epoch: 095/100 | Train Loss: 0.09961 | Val Loss: 0.08995\n",
            "Epoch: 100/100 | Train Loss: 0.09528 | Val Loss: 0.08282\n"
          ]
        }
      ],
      "source": [
        "ej1_model = MLP_EJ1(ninputs, nclasses, 0.2).to(DEVICE)\n",
        "\n",
        "optimizer = optim.Adam(ej1_model.parameters(), lr=LR)\n",
        "\n",
        "epoch_train_errors, epoch_val_errors = train(\n",
        "    ej1_model,\n",
        "    optimizer,\n",
        "    CRITERION,\n",
        "    train_loader,\n",
        "    val_loader,\n",
        "    DEVICE,\n",
        "    EPOCHS,\n",
        "    print_log,\n",
        "    5,\n",
        ")"
      ]
    },
    {
      "cell_type": "code",
      "execution_count": 33,
      "metadata": {
        "id": "ZHM5E-zOp9Zc",
        "colab": {
          "base_uri": "https://localhost:8080/",
          "height": 957
        },
        "outputId": "cb7d285b-c1ca-464e-b1ef-2be4c721c4bd"
      },
      "outputs": [
        {
          "output_type": "display_data",
          "data": {
            "text/plain": [
              "<Figure size 1000x500 with 1 Axes>"
            ],
            "image/png": "[encoded data removed]"
          },
          "metadata": {}
        },
        {
          "output_type": "display_data",
          "data": {
            "text/plain": [
              "<Figure size 1000x500 with 1 Axes>"
            ],
            "image/png": "[encoded data removed]"
          },
          "metadata": {}
        }
      ],
      "source": [
        "# graficamos los errores de entrenamiento y validación\n",
        "plot_taining(epoch_train_errors, epoch_val_errors)\n",
        "# graficamos los errores de entrenamiento y validación a partir de la época 5\n",
        "plot_taining(epoch_train_errors[5:], epoch_val_errors[5:])"
      ]
    },
    {
      "cell_type": "code",
      "execution_count": 34,
      "metadata": {
        "id": "f3CszNzjp9Zc",
        "colab": {
          "base_uri": "https://localhost:8080/"
        },
        "outputId": "e8b92168-e131-40a9-f897-902804d6de0b"
      },
      "outputs": [
        {
          "output_type": "stream",
          "name": "stdout",
          "text": [
            "Accuracy: 0.9752\n",
            "\n",
            "Reporte de clasificación:\n",
            "                                        precision    recall  f1-score   support\n",
            "\n",
            "                          Normal beat       0.98      1.00      0.99     18118\n",
            "      Supraventricular premature beat       0.94      0.61      0.74       556\n",
            "    Premature ventricular contraction       0.95      0.90      0.93      1448\n",
            "Fusion of ventricular and normal beat       0.84      0.70      0.77       162\n",
            "                  Unclassifiable beat       0.99      0.96      0.97      1608\n",
            "\n",
            "                             accuracy                           0.98     21892\n",
            "                            macro avg       0.94      0.84      0.88     21892\n",
            "                         weighted avg       0.97      0.98      0.97     21892\n",
            "\n"
          ]
        }
      ],
      "source": [
        "model_classification_report(ej1_model, test_loader)"
      ]
    },
    {
      "cell_type": "markdown",
      "metadata": {
        "id": "R7kBWaM1p9Zc"
      },
      "source": [
        "- ¿Cómo se compara el resultado con el modelo sin dropout?"
      ]
    },
    {
      "cell_type": "markdown",
      "metadata": {
        "id": "sGHL26RWp9Zc"
      },
      "source": [
        "#### Lectura Adicional\n",
        "- [Dropout: A Simple Way to Prevent Neural Networks from Overfitting](https://jmlr.org/papers/v15/srivastava14a.html) - Paper original de Dropout\n",
        "- [Deep Learning Book - Regularization](https://www.deeplearningbook.org/contents/regularization.html)\n",
        "- [Dive into Deep Learning - Dropout](https://d2l.ai/chapter_multilayer-perceptrons/dropout.html)"
      ]
    },
    {
      "cell_type": "markdown",
      "metadata": {
        "id": "Ge7OQr6tp9Zc"
      },
      "source": [
        "### Ejercicio 2: Implementar early stopping\n",
        "\n",
        "[Early stopping](https://en.wikipedia.org/wiki/Early_stopping) es una técnica de regularización utilizada para prevenir el sobreajuste en modelos de aprendizaje profundo. Consiste en detener el entrenamiento del modelo cuando el rendimiento en el conjunto de validación deja de mejorar, evitando así que el modelo se ajuste demasiado a los datos de entrenamiento.\n",
        "\n",
        "**¿Cómo Funciona Early Stopping?**\n",
        "\n",
        "Early stopping se basa en el principio de que, a medida que el modelo se entrena, el rendimiento en el conjunto de validación debería mejorar hasta cierto punto y luego comenzar a empeorar. Esto se debe a que el modelo se ajusta cada vez más a los datos de entrenamiento, lo que puede llevar a un sobreajuste. Early stopping busca detener el entrenamiento en el punto óptimo, antes de que el modelo comience a sobreajustarse."
      ]
    },
    {
      "cell_type": "code",
      "execution_count": 35,
      "metadata": {
        "id": "7vaI07UXp9Zc"
      },
      "outputs": [],
      "source": [
        "class EarlyStopping:\n",
        "    def __init__(self, patience=5):\n",
        "        \"\"\"\n",
        "        Args:\n",
        "            patience (int): Cuántas épocas esperar después de la última mejora.\n",
        "        \"\"\"\n",
        "        self.patience = patience\n",
        "        self.best_score = float(\"inf\")\n",
        "        self.early_stop = False\n",
        "        self.without_imp = 0  # cuantas veces NO mejoro\n",
        "\n",
        "    def __call__(self, val_loss):\n",
        "        if val_loss < self.best_score:\n",
        "          self.best_score = val_loss\n",
        "          self.without_imp = 0\n",
        "        else: # no mejoro la loss con respecto a la anterior\n",
        "          self.without_imp += 1\n",
        "          if self.without_imp >= self.patience:\n",
        "            self.early_stop = True"
      ]
    },
    {
      "cell_type": "markdown",
      "metadata": {
        "id": "sQWQUq4Rp9Zc"
      },
      "source": [
        "Nuestra clase `EarlyStopping` implementa la lógica de early stopping muy sencilla. Guarda la mejor loss de validación vista hasta el momento y detiene el entrenamiento si la loss de validación no mejora después de un cierto número de épocas."
      ]
    },
    {
      "cell_type": "code",
      "execution_count": 36,
      "metadata": {
        "id": "OBkR_Rp6p9Zd",
        "colab": {
          "base_uri": "https://localhost:8080/"
        },
        "outputId": "5e11afb6-bc7d-47c1-87b4-1d06fba04b41"
      },
      "outputs": [
        {
          "output_type": "stream",
          "name": "stdout",
          "text": [
            "Detener entrenamiento en la época 5, la mejor pérdida fue 0.08\n"
          ]
        }
      ],
      "source": [
        "# lo ponemos a prueba con un ejemplo sencillo\n",
        "early_stopping = EarlyStopping(patience=2)\n",
        "loss_simulated = [0.1, 0.09, 0.08, 0.1, 0.11, 0.12, 0.13, 0.14, 0.15]\n",
        "\n",
        "for i, loss in enumerate(loss_simulated):\n",
        "    early_stopping(loss)\n",
        "    if early_stopping.early_stop:\n",
        "        print(\n",
        "            f\"Detener entrenamiento en la época {i + 1}, la mejor pérdida fue {early_stopping.best_score}\"\n",
        "        )\n",
        "        break"
      ]
    },
    {
      "cell_type": "markdown",
      "metadata": {
        "id": "aKhz6-b8p9Zd"
      },
      "source": [
        "Vamos a redefinir nuestro training loop para incluir la lógica de early stopping."
      ]
    },
    {
      "cell_type": "code",
      "execution_count": 37,
      "metadata": {
        "id": "oIeXkjJMp9Zd"
      },
      "outputs": [],
      "source": [
        "def train_es(\n",
        "    model,\n",
        "    optimizer,\n",
        "    criterion,\n",
        "    train_loader,\n",
        "    val_loader,\n",
        "    device,\n",
        "    patience=5,\n",
        "    epochs=10,\n",
        "    log_fn=None,\n",
        "    log_every=1,\n",
        "):\n",
        "    \"\"\"\n",
        "    Entrena el modelo utilizando el optimizador y la función de pérdida proporcionados.\n",
        "\n",
        "    Args:\n",
        "        model (torch.nn.Module): El modelo que se va a entrenar.\n",
        "        optimizer (torch.optim.Optimizer): El optimizador que se utilizará para actualizar los pesos del modelo.\n",
        "        criterion (torch.nn.Module): La función de pérdida que se utilizará para calcular la pérdida.\n",
        "        train_loader (torch.utils.data.DataLoader): DataLoader que proporciona los datos de entrenamiento.\n",
        "        val_loader (torch.utils.data.DataLoader): DataLoader que proporciona los datos de validación.\n",
        "        device (str): El dispositivo donde se ejecutará el entrenamiento.\n",
        "        patience (int): Número de épocas a esperar después de la última mejora en val_loss antes de detener el entrenamiento (default: 5).\n",
        "        epochs (int): Número de épocas de entrenamiento (default: 10).\n",
        "        log_fn (function): Función que se llamará después de cada log_every épocas con los argumentos (epoch, train_loss, val_loss) (default: None).\n",
        "        log_every (int): Número de épocas entre cada llamada a log_fn (default: 1).\n",
        "\n",
        "    Returns:\n",
        "        Tuple[List[float], List[float]]: Una tupla con dos listas, la primera con el error de entrenamiento de cada época y la segunda con el error de validación de cada época.\n",
        "\n",
        "    \"\"\"\n",
        "    epoch_train_errors = []  # colectamos el error de traing para posterior analisis\n",
        "    epoch_val_errors = []  # colectamos el error de validacion para posterior analisis\n",
        "    early_stopping = EarlyStopping(patience)\n",
        "\n",
        "    for epoch in range(epochs): # loop de entrenamiento\n",
        "        model.train()  # ponemos el modelo en modo de entrenamiento\n",
        "        train_loss = 0 # acumulador de la perdida de entrenamiento\n",
        "        for x, y in train_loader:\n",
        "            x = x.to(device) # movemos los datos al dispositivo\n",
        "            y = y.to(device) # movemos los datos al dispositivo\n",
        "\n",
        "            optimizer.zero_grad() # reseteamos los gradientes\n",
        "\n",
        "            output = model(x) # forward pass (prediccion)\n",
        "            batch_loss = criterion(output, y) # calculamos la perdida con la salida esperada\n",
        "\n",
        "            batch_loss.backward() # backpropagation\n",
        "            optimizer.step() # actualizamos los pesos\n",
        "\n",
        "            train_loss += batch_loss.item() # acumulamos la perdida\n",
        "\n",
        "        train_loss /= len(train_loader) # calculamos la perdida promedio de la epoca\n",
        "        epoch_train_errors.append(train_loss) # guardamos la perdida de entrenamiento\n",
        "        val_loss = evaluate(model, criterion, val_loader) # evaluamos el modelo en el conjunto de validacion\n",
        "        epoch_val_errors.append(val_loss) # guardamos la perdida de validacion\n",
        "        early_stopping(val_loss)\n",
        "\n",
        "        if log_fn is not None: # si se pasa una funcion de log\n",
        "            if (epoch + 1) % log_every == 0: # loggeamos cada log_every epocas\n",
        "                log_fn(epoch, train_loss, val_loss) # llamamos a la funcion de log\n",
        "\n",
        "        if early_stopping.early_stop:\n",
        "            print(\n",
        "                f\"Detener entrenamiento en la época {epoch + 1}, la mejor pérdida fue {early_stopping.best_score}\"\n",
        "            )\n",
        "            break\n",
        "\n",
        "    return epoch_train_errors, epoch_val_errors"
      ]
    },
    {
      "cell_type": "code",
      "execution_count": 38,
      "metadata": {
        "id": "btF6-79Ip9Zd",
        "colab": {
          "base_uri": "https://localhost:8080/"
        },
        "outputId": "543ee908-1624-4135-9ec3-61300195ae2a"
      },
      "outputs": [
        {
          "output_type": "stream",
          "name": "stderr",
          "text": [
            "/usr/local/lib/python3.12/dist-packages/torch/utils/data/dataloader.py:627: UserWarning: This DataLoader will create 4 worker processes in total. Our suggested max number of worker in current system is 2, which is smaller than what this DataLoader is going to create. Please be aware that excessive worker creation might get DataLoader running slow or even freeze, lower the worker number to avoid potential slowness/freeze if necessary.\n",
            "  warnings.warn(\n"
          ]
        },
        {
          "output_type": "stream",
          "name": "stdout",
          "text": [
            "Epoch: 005/100 | Train Loss: 0.17579 | Val Loss: 0.15923\n",
            "Epoch: 010/100 | Train Loss: 0.11335 | Val Loss: 0.11991\n",
            "Epoch: 015/100 | Train Loss: 0.09210 | Val Loss: 0.09954\n",
            "Epoch: 020/100 | Train Loss: 0.07841 | Val Loss: 0.09228\n",
            "Epoch: 025/100 | Train Loss: 0.06570 | Val Loss: 0.09468\n",
            "Epoch: 030/100 | Train Loss: 0.06244 | Val Loss: 0.08873\n",
            "Detener entrenamiento en la época 31, la mejor pérdida fue 0.08270476096206242\n"
          ]
        }
      ],
      "source": [
        "ej2_model = MLP(ninputs, nclasses).to(DEVICE)\n",
        "\n",
        "optimizer = optim.Adam(ej2_model.parameters(), lr=LR)\n",
        "\n",
        "epoch_train_errors, epoch_val_errors = train_es(\n",
        "    ej2_model,\n",
        "    optimizer,\n",
        "    CRITERION,\n",
        "    train_loader,\n",
        "    val_loader,\n",
        "    DEVICE,\n",
        "    3,\n",
        "    EPOCHS,\n",
        "    print_log,\n",
        "    5,\n",
        ")"
      ]
    },
    {
      "cell_type": "code",
      "execution_count": 39,
      "metadata": {
        "id": "SOYuHdE6p9Zd",
        "colab": {
          "base_uri": "https://localhost:8080/",
          "height": 957
        },
        "outputId": "3d416860-d7d6-4710-c86d-efe0c4ca392d"
      },
      "outputs": [
        {
          "output_type": "display_data",
          "data": {
            "text/plain": [
              "<Figure size 1000x500 with 1 Axes>"
            ],
            "image/png": "[encoded data removed]"
          },
          "metadata": {}
        },
        {
          "output_type": "display_data",
          "data": {
            "text/plain": [
              "<Figure size 1000x500 with 1 Axes>"
            ],
            "image/png": "[encoded data removed]"
          },
          "metadata": {}
        }
      ],
      "source": [
        "# graficamos los errores de entrenamiento y validación\n",
        "plot_taining(epoch_train_errors, epoch_val_errors)\n",
        "# graficamos los errores de entrenamiento y validación a partir de la época 5\n",
        "plot_taining(epoch_train_errors[5:], epoch_val_errors[5:])"
      ]
    },
    {
      "cell_type": "code",
      "execution_count": 40,
      "metadata": {
        "id": "XxmRlOhlp9Zd",
        "colab": {
          "base_uri": "https://localhost:8080/"
        },
        "outputId": "dc405cff-87d5-4c1e-be9f-d3dd0e41203a"
      },
      "outputs": [
        {
          "output_type": "stream",
          "name": "stdout",
          "text": [
            "Accuracy: 0.9748\n",
            "\n",
            "Reporte de clasificación:\n",
            "                                        precision    recall  f1-score   support\n",
            "\n",
            "                          Normal beat       0.98      0.99      0.99     18118\n",
            "      Supraventricular premature beat       0.91      0.63      0.74       556\n",
            "    Premature ventricular contraction       0.91      0.94      0.92      1448\n",
            "Fusion of ventricular and normal beat       0.88      0.63      0.73       162\n",
            "                  Unclassifiable beat       0.99      0.95      0.97      1608\n",
            "\n",
            "                             accuracy                           0.97     21892\n",
            "                            macro avg       0.93      0.83      0.87     21892\n",
            "                         weighted avg       0.97      0.97      0.97     21892\n",
            "\n"
          ]
        }
      ],
      "source": [
        "model_classification_report(ej2_model, test_loader)"
      ]
    },
    {
      "cell_type": "markdown",
      "metadata": {
        "id": "bkevgckRp9Zd"
      },
      "source": [
        "#### Lectura Adicional\n",
        "- \"Other than the obvious difference with the previous study (this used real data), it is\n",
        "important to note another significant point: in this case. we stopped iterating (by anyone\n",
        "particular criterion) when that criterion was leading to no new test set performance\n",
        "improvement\" - From: [Generalization and Parameter Estimation in Feedforward Nets: Some Experiments](https://proceedings.neurips.cc/paper/1989/file/63923f49e5241343aa7acb6a06a751e7-Paper.pdf)\n",
        "- [Deep Learning Book - Regularization](https://www.deeplearningbook.org/contents/regularization.html)\n",
        "- [Dive into Deep Learning - Early Stopping](https://d2l.ai/chapter_multilayer-perceptrons/generalization-deep.html#early-stopping)"
      ]
    },
    {
      "cell_type": "markdown",
      "metadata": {
        "id": "q6Sq_TGVp9Ze"
      },
      "source": [
        "### Ejercicio 3: Implementar label smoothing\n",
        "\n",
        "[Label smoothing](https://towardsdatascience.com/what-is-label-smoothing-108debd7ef06) es una técnica de regularización utilizada en el entrenamiento de modelos de clasificación para mejorar la generalización y evitar que el modelo se vuelva demasiado confiado en sus predicciones. Consiste en suavizar las etiquetas de clase, en lugar de asignar una probabilidad de 1 a la clase correcta y 0 a las demás, se asigna una probabilidad ligeramente menor a la clase correcta y una probabilidad ligeramente mayor a las demás clases.\n",
        "\n",
        "Se pude aplicar con la siguiente formula:\n",
        "\n",
        "$$ y_{ls} = (1 - \\alpha) \\cdot y_{hot} + \\frac{\\alpha}{K} $$\n",
        "\n",
        "donde:\n",
        "- $y_{ls}$ son las etiquetas suavizadas.\n",
        "- $y_{hot}$ son las etiquetas originales en formato one-hot.\n",
        "- $\\alpha$ es el factor de suavizado (entre 0 y 1).\n",
        "- $K$ es el número de clases."
      ]
    },
    {
      "cell_type": "code",
      "execution_count": 41,
      "metadata": {
        "id": "rCVRRMaMp9Ze",
        "colab": {
          "base_uri": "https://localhost:8080/"
        },
        "outputId": "d3e16bc3-98b9-4666-dc34-dc3d0d05483f"
      },
      "outputs": [
        {
          "output_type": "stream",
          "name": "stdout",
          "text": [
            "Etiquetas\n",
            "tensor([0, 1, 2, 1, 3, 2])\n",
            "\n",
            "One-hot encoding\n",
            "tensor([[1, 0, 0, 0, 0],\n",
            "        [0, 1, 0, 0, 0],\n",
            "        [0, 0, 1, 0, 0],\n",
            "        [0, 1, 0, 0, 0],\n",
            "        [0, 0, 0, 1, 0],\n",
            "        [0, 0, 1, 0, 0]])\n",
            "\n",
            "Label smoothing\n",
            "tensor([[0.9200, 0.0200, 0.0200, 0.0200, 0.0200],\n",
            "        [0.0200, 0.9200, 0.0200, 0.0200, 0.0200],\n",
            "        [0.0200, 0.0200, 0.9200, 0.0200, 0.0200],\n",
            "        [0.0200, 0.9200, 0.0200, 0.0200, 0.0200],\n",
            "        [0.0200, 0.0200, 0.0200, 0.9200, 0.0200],\n",
            "        [0.0200, 0.0200, 0.9200, 0.0200, 0.0200]])\n"
          ]
        }
      ],
      "source": [
        "# Ejemplo de etiquetas (índices de clase)\n",
        "z = torch.tensor([0, 1, 2, 1, 3, 2])  # Etiquetas de ejemplo\n",
        "print(f\"Etiquetas\\n{z}\")\n",
        "\n",
        "# Convertir a one-hot encoding\n",
        "z_one_hot = F.one_hot(z, nclasses)\n",
        "print(f\"\\nOne-hot encoding\\n{z_one_hot}\")\n",
        "\n",
        "# Parámetro de suavizado\n",
        "alpha = 0.1  # Factor de suavizado\n",
        "K = nclasses\n",
        "\n",
        "# Aplicar label smoothing\n",
        "z_ls = (1 - alpha) * z_one_hot + alpha / K\n",
        "print(f\"\\nLabel smoothing\\n{z_ls}\")"
      ]
    },
    {
      "cell_type": "markdown",
      "metadata": {
        "id": "8Vm0mqfAp9Ze"
      },
      "source": [
        "Afortunadamente, PyTorch proporciona una implementación de label smoothing en la función de pérdida [`torch.nn.CrossEntropyLoss`](https://pytorch.org/docs/stable/generated/torch.nn.CrossEntropyLoss.html) a través del parámetro `label_smoothing`. Al establecer `label_smoothing` en un valor mayor que cero, se aplica label smoothing a la función de pérdida."
      ]
    },
    {
      "cell_type": "code",
      "execution_count": 42,
      "metadata": {
        "id": "TtYHjxjop9Ze"
      },
      "outputs": [],
      "source": [
        "criterion = nn.CrossEntropyLoss(label_smoothing=0.1).to(DEVICE)"
      ]
    },
    {
      "cell_type": "code",
      "execution_count": 43,
      "metadata": {
        "id": "TOBHtwjjp9Ze",
        "colab": {
          "base_uri": "https://localhost:8080/"
        },
        "outputId": "2d6a3f28-6a56-4e7f-ee82-2d915a6fdef0"
      },
      "outputs": [
        {
          "output_type": "stream",
          "name": "stderr",
          "text": [
            "/usr/local/lib/python3.12/dist-packages/torch/utils/data/dataloader.py:627: UserWarning: This DataLoader will create 4 worker processes in total. Our suggested max number of worker in current system is 2, which is smaller than what this DataLoader is going to create. Please be aware that excessive worker creation might get DataLoader running slow or even freeze, lower the worker number to avoid potential slowness/freeze if necessary.\n",
            "  warnings.warn(\n"
          ]
        },
        {
          "output_type": "stream",
          "name": "stdout",
          "text": [
            "Epoch: 005/100 | Train Loss: 0.55354 | Val Loss: 0.53847\n",
            "Epoch: 010/100 | Train Loss: 0.48826 | Val Loss: 0.48742\n",
            "Epoch: 015/100 | Train Loss: 0.47377 | Val Loss: 0.47524\n",
            "Epoch: 020/100 | Train Loss: 0.46441 | Val Loss: 0.46856\n",
            "Epoch: 025/100 | Train Loss: 0.45958 | Val Loss: 0.46203\n",
            "Epoch: 030/100 | Train Loss: 0.45323 | Val Loss: 0.45748\n",
            "Epoch: 035/100 | Train Loss: 0.44789 | Val Loss: 0.46005\n",
            "Epoch: 040/100 | Train Loss: 0.44445 | Val Loss: 0.45186\n",
            "Epoch: 045/100 | Train Loss: 0.44491 | Val Loss: 0.45367\n",
            "Epoch: 050/100 | Train Loss: 0.44222 | Val Loss: 0.45294\n",
            "Epoch: 055/100 | Train Loss: 0.43770 | Val Loss: 0.45254\n",
            "Epoch: 060/100 | Train Loss: 0.43928 | Val Loss: 0.45428\n",
            "Epoch: 065/100 | Train Loss: 0.43576 | Val Loss: 0.45065\n",
            "Epoch: 070/100 | Train Loss: 0.43376 | Val Loss: 0.45029\n",
            "Epoch: 075/100 | Train Loss: 0.43193 | Val Loss: 0.45249\n",
            "Epoch: 080/100 | Train Loss: 0.42900 | Val Loss: 0.44849\n",
            "Epoch: 085/100 | Train Loss: 0.43047 | Val Loss: 0.45111\n",
            "Epoch: 090/100 | Train Loss: 0.42953 | Val Loss: 0.45134\n",
            "Epoch: 095/100 | Train Loss: 0.42813 | Val Loss: 0.45040\n",
            "Epoch: 100/100 | Train Loss: 0.42540 | Val Loss: 0.44797\n"
          ]
        }
      ],
      "source": [
        "ej3_model = MLP(ninputs, nclasses).to(DEVICE)\n",
        "\n",
        "optimizer = optim.Adam(ej3_model.parameters(), lr=LR)\n",
        "\n",
        "epoch_train_errors, epoch_val_errors = train(\n",
        "    ej3_model,\n",
        "    optimizer,\n",
        "    criterion,\n",
        "    train_loader,\n",
        "    val_loader,\n",
        "    DEVICE,\n",
        "    EPOCHS,\n",
        "    print_log,\n",
        "    5,\n",
        ")"
      ]
    },
    {
      "cell_type": "code",
      "execution_count": 44,
      "metadata": {
        "id": "tI1u3Wh-p9Ze",
        "colab": {
          "base_uri": "https://localhost:8080/"
        },
        "outputId": "f25e8840-87cf-483e-b613-4ad16f636c8a"
      },
      "outputs": [
        {
          "output_type": "stream",
          "name": "stdout",
          "text": [
            "Accuracy: 0.9752\n",
            "\n",
            "Reporte de clasificación:\n",
            "                                        precision    recall  f1-score   support\n",
            "\n",
            "                          Normal beat       0.98      0.99      0.99     18118\n",
            "      Supraventricular premature beat       0.81      0.70      0.75       556\n",
            "    Premature ventricular contraction       0.93      0.92      0.93      1448\n",
            "Fusion of ventricular and normal beat       0.76      0.76      0.76       162\n",
            "                  Unclassifiable beat       0.98      0.97      0.98      1608\n",
            "\n",
            "                             accuracy                           0.98     21892\n",
            "                            macro avg       0.90      0.87      0.88     21892\n",
            "                         weighted avg       0.97      0.98      0.97     21892\n",
            "\n"
          ]
        }
      ],
      "source": [
        "model_classification_report(ej3_model, test_loader)"
      ]
    },
    {
      "cell_type": "code",
      "source": [],
      "metadata": {
        "id": "auJ1gQo1v3xN"
      },
      "execution_count": 44,
      "outputs": []
    }
  ],
  "metadata": {
    "kernelspec": {
      "display_name": "Python 3",
      "name": "python3"
    },
    "language_info": {
      "codemirror_mode": {
        "name": "ipython",
        "version": 3
      },
      "file_extension": ".py",
      "mimetype": "text/x-python",
      "name": "python",
      "nbconvert_exporter": "python",
      "pygments_lexer": "ipython3",
      "version": "3.12.11"
    },
    "colab": {
      "provenance": [],
      "gpuType": "T4",
      "include_colab_link": true
    },
    "accelerator": "GPU"
  },
  "nbformat": 4,
  "nbformat_minor": 0
}